{
 "cells": [
  {
   "attachments": {},
   "cell_type": "markdown",
   "metadata": {},
   "source": [
    "#  Unit 2.3 Extracting Information from Data\n",
    "> Data connections, trends, and correlation.  Pandas is introduced as it could valuable for PBL, data validation, as well as understanding College Board Topics.\n",
    "- toc: true\n",
    "- image: /images/python.png\n",
    "- categories: []\n",
    "- type: ap\n",
    "- week: 25"
   ]
  },
  {
   "attachments": {},
   "cell_type": "markdown",
   "metadata": {},
   "source": [
    "# Files To Get\n",
    "\n",
    "Save this file to your **_notebooks** folder\n",
    "\n",
    "wget https://raw.githubusercontent.com/nighthawkcoders/APCSP/master/_notebooks/2023-03-06-AP-unit2_3.ipynb\n",
    "\n",
    "Save these files into a subfolder named **files** in your **_notebooks** folder\n",
    "\n",
    "wget https://raw.githubusercontent.com/nighthawkcoders/APCSP/master/_notebooks/files/data.csv\n",
    "\n",
    "wget https://raw.githubusercontent.com/nighthawkcoders/APCSP/master/_notebooks/files/grade.json\n",
    "\n",
    "Save this image into a subfolder named **images** in your **_notebooks** folder\n",
    "\n",
    "wget https://raw.githubusercontent.com/nighthawkcoders/APCSP/master/_notebooks/images/table_dataframe.svg\n"
   ]
  },
  {
   "attachments": {},
   "cell_type": "markdown",
   "metadata": {},
   "source": [
    "# Pandas and DataFrames\n",
    "> In this lesson we will be exploring data using Pandas.  [From Pandas Overview](https://pandas.pydata.org/docs/getting_started/index.html) -- When working with tabular data, such as data stored in spreadsheets or databases, pandas is the right tool for you. pandas will help you to explore, clean, and process your data. In pandas, a data table is called a DataFrame.\n",
    "\n",
    "\n",
    "![DataFrame](images/table_dataframe.png)"
   ]
  },
  {
   "cell_type": "code",
   "execution_count": 1,
   "metadata": {},
   "outputs": [],
   "source": [
    "'''Pandas is used to gather data sets through its DataFrames implementation'''\n",
    "import pandas as pd"
   ]
  },
  {
   "attachments": {},
   "cell_type": "markdown",
   "metadata": {},
   "source": [
    "# Cleaning Data\n",
    "\n",
    "When looking at a data set, check to see what data needs to be cleaned. Examples include:\n",
    "- Missing Data Points\n",
    "- Invalid Data\n",
    "- Inaccurate Data\n",
    "\n",
    "Run the following code to see what needs to be cleaned"
   ]
  },
  {
   "cell_type": "code",
   "execution_count": 35,
   "metadata": {},
   "outputs": [
    {
     "name": "stdout",
     "output_type": "stream",
     "text": [
      "   Student ID Year in School   GPA\n",
      "0         123             12  3.57\n",
      "1         246             10  4.00\n",
      "2         578             12  2.78\n",
      "3         469             11  3.45\n",
      "4         324         Junior  4.75\n",
      "..        ...            ...   ...\n",
      "7         167             10  3.90\n",
      "8         235      9th Grade  3.15\n",
      "9         nil              9  2.80\n",
      "10        469             11  3.45\n",
      "11        456             10  2.75\n",
      "\n",
      "[12 rows x 3 columns]\n"
     ]
    }
   ],
   "source": [
    "# reads the JSON file and converts it to a Pandas DataFrame\n",
    "df = pd.read_json('files/grade.json')\n",
    "\n",
    "print(df)\n",
    "# What part of the data set needs to be cleaned?\n",
    "# From PBL learning, what is a good time to clean data?  Hint, remember Garbage in, Garbage out?"
   ]
  },
  {
   "attachments": {},
   "cell_type": "markdown",
   "metadata": {},
   "source": [
    "# Extracting Info\n",
    "\n",
    "Take a look at some features that the Pandas library has that extracts info from the dataset"
   ]
  },
  {
   "attachments": {},
   "cell_type": "markdown",
   "metadata": {},
   "source": [
    "## DataFrame Extract Column"
   ]
  },
  {
   "cell_type": "code",
   "execution_count": 18,
   "metadata": {},
   "outputs": [
    {
     "name": "stdout",
     "output_type": "stream",
     "text": [
      "     GPA\n",
      "0   3.57\n",
      "1   4.00\n",
      "2   2.78\n",
      "3   3.45\n",
      "4   4.75\n",
      "5   3.33\n",
      "6   2.95\n",
      "7   3.90\n",
      "8   3.15\n",
      "9   2.80\n",
      "10  3.45\n",
      "11  2.75\n",
      "\n",
      "Student ID  GPA\n",
      "       123 3.57\n",
      "       246 4.00\n",
      "       578 2.78\n",
      "       469 3.45\n",
      "       324 4.75\n",
      "       313 3.33\n",
      "       145 2.95\n",
      "       167 3.90\n",
      "       235 3.15\n",
      "       nil 2.80\n",
      "       469 3.45\n",
      "       456 2.75\n"
     ]
    }
   ],
   "source": [
    "#print the values in the points column with column header\n",
    "print(df[['GPA']])\n",
    "\n",
    "print()\n",
    "\n",
    "#try two columns and remove the index from print statement\n",
    "print(df[['Student ID','GPA']].to_string(index=False))"
   ]
  },
  {
   "attachments": {},
   "cell_type": "markdown",
   "metadata": {},
   "source": [
    "## DataFrame Sort"
   ]
  },
  {
   "cell_type": "code",
   "execution_count": 14,
   "metadata": {},
   "outputs": [
    {
     "name": "stdout",
     "output_type": "stream",
     "text": [
      "   Student ID Year in School   GPA\n",
      "11        456             10  2.75\n",
      "2         578             12  2.78\n",
      "9         nil              9  2.80\n",
      "6         145             12  2.95\n",
      "8         235      9th Grade  3.15\n",
      "5         313             20  3.33\n",
      "3         469             11  3.45\n",
      "10        469             11  3.45\n",
      "0         123             12  3.57\n",
      "7         167             10  3.90\n",
      "1         246             10  4.00\n",
      "4         324         Junior  4.75\n",
      "\n",
      "   Student ID Year in School   GPA\n",
      "4         324         Junior  4.75\n",
      "1         246             10  4.00\n",
      "7         167             10  3.90\n",
      "0         123             12  3.57\n",
      "3         469             11  3.45\n",
      "10        469             11  3.45\n",
      "5         313             20  3.33\n",
      "8         235      9th Grade  3.15\n",
      "6         145             12  2.95\n",
      "9         nil              9  2.80\n",
      "2         578             12  2.78\n",
      "11        456             10  2.75\n"
     ]
    }
   ],
   "source": [
    "#sort values\n",
    "print(df.sort_values(by=['GPA']))\n",
    "\n",
    "print()\n",
    "\n",
    "#sort the values in reverse order\n",
    "print(df.sort_values(by=['GPA'], ascending=False))"
   ]
  },
  {
   "attachments": {},
   "cell_type": "markdown",
   "metadata": {},
   "source": [
    "## DataFrame Selection or Filter"
   ]
  },
  {
   "cell_type": "code",
   "execution_count": 19,
   "metadata": {},
   "outputs": [
    {
     "name": "stdout",
     "output_type": "stream",
     "text": [
      "   Student ID Year in School   GPA\n",
      "0         123             12  3.57\n",
      "1         246             10  4.00\n",
      "3         469             11  3.45\n",
      "4         324         Junior  4.75\n",
      "5         313             20  3.33\n",
      "7         167             10  3.90\n",
      "8         235      9th Grade  3.15\n",
      "10        469             11  3.45\n"
     ]
    }
   ],
   "source": [
    "#print only values with a specific criteria \n",
    "print(df[df.GPA > 3.00])"
   ]
  },
  {
   "attachments": {},
   "cell_type": "markdown",
   "metadata": {},
   "source": [
    "## DataFrame Selection Max and Min"
   ]
  },
  {
   "cell_type": "code",
   "execution_count": 48,
   "metadata": {},
   "outputs": [
    {
     "name": "stdout",
     "output_type": "stream",
     "text": [
      "  Student ID Year in School   GPA\n",
      "4        324         Junior  4.75\n",
      "\n",
      "   Student ID Year in School   GPA\n",
      "11        456             10  2.75\n"
     ]
    }
   ],
   "source": [
    "print(df[df.GPA == df.GPA.max()])\n",
    "print()\n",
    "print(df[df.GPA == df.GPA.min()])"
   ]
  },
  {
   "attachments": {},
   "cell_type": "markdown",
   "metadata": {},
   "source": [
    "# Create your own DataFrame\n",
    "\n",
    "Using Pandas allows you to create your own DataFrame in Python."
   ]
  },
  {
   "attachments": {},
   "cell_type": "markdown",
   "metadata": {},
   "source": [
    "## Python Dictionary to Pandas DataFrame"
   ]
  },
  {
   "cell_type": "code",
   "execution_count": 51,
   "metadata": {},
   "outputs": [
    {
     "name": "stdout",
     "output_type": "stream",
     "text": [
      "-------------Dict_to_DF------------------\n",
      "   calories  duration\n",
      "0       420        50\n",
      "1       380        40\n",
      "2       390        45\n",
      "----------Dict_to_DF_labels--------------\n",
      "      calories  duration\n",
      "day1       420        50\n",
      "day2       380        40\n",
      "day3       390        45\n"
     ]
    }
   ],
   "source": [
    "import pandas as pd\n",
    "\n",
    "#the data can be stored as a python dictionary\n",
    "dict = {\n",
    "  \"calories\": [420, 380, 390],\n",
    "  \"duration\": [50, 40, 45]\n",
    "}\n",
    "#stores the data in a data frame\n",
    "print(\"-------------Dict_to_DF------------------\")\n",
    "df = pd.DataFrame(dict)\n",
    "print(df)\n",
    "\n",
    "print(\"----------Dict_to_DF_labels--------------\")\n",
    "\n",
    "#or with the index argument, you can label rows.\n",
    "df = pd.DataFrame(dict, index = [\"day1\", \"day2\", \"day3\"])\n",
    "print(df)"
   ]
  },
  {
   "attachments": {},
   "cell_type": "markdown",
   "metadata": {},
   "source": [
    "## Examine DataFrame Rows"
   ]
  },
  {
   "cell_type": "code",
   "execution_count": 56,
   "metadata": {},
   "outputs": [
    {
     "name": "stdout",
     "output_type": "stream",
     "text": [
      "-------Examine Selected Rows---------\n",
      "      calories  duration\n",
      "day1       420        50\n",
      "day3       390        45\n",
      "--------Examine Single Row-----------\n",
      "calories    420\n",
      "duration     50\n",
      "Name: day1, dtype: int64\n"
     ]
    }
   ],
   "source": [
    "print(\"-------Examine Selected Rows---------\")\n",
    "#use a list for multiple labels:\n",
    "print(df.loc[[\"day1\", \"day3\"]])\n",
    "\n",
    "#refer to the row index:\n",
    "print(\"--------Examine Single Row-----------\")\n",
    "print(df.loc[\"day1\"])"
   ]
  },
  {
   "attachments": {},
   "cell_type": "markdown",
   "metadata": {},
   "source": [
    "## Pandas DataFrame Information"
   ]
  },
  {
   "cell_type": "code",
   "execution_count": 29,
   "metadata": {},
   "outputs": [
    {
     "name": "stdout",
     "output_type": "stream",
     "text": [
      "-------------------------------\n",
      "<class 'pandas.core.frame.DataFrame'>\n",
      "Index: 3 entries, day1 to day3\n",
      "Data columns (total 2 columns):\n",
      " #   Column    Non-Null Count  Dtype\n",
      "---  ------    --------------  -----\n",
      " 0   calories  3 non-null      int64\n",
      " 1   duration  3 non-null      int64\n",
      "dtypes: int64(2)\n",
      "memory usage: 180.0+ bytes\n",
      "None\n"
     ]
    }
   ],
   "source": [
    "#print info about the data set\n",
    "print(df.info())"
   ]
  },
  {
   "attachments": {},
   "cell_type": "markdown",
   "metadata": {},
   "source": [
    "# Example of larger data set\n",
    "\n",
    "Pandas can read CSV and many other types of files, run the following code to see more features with a larger data set"
   ]
  },
  {
   "cell_type": "code",
   "execution_count": 68,
   "metadata": {},
   "outputs": [
    {
     "name": "stdout",
     "output_type": "stream",
     "text": [
      "--Duration Top 10---------\n",
      "     Duration  Pulse  Maxpulse  Calories\n",
      "69        300    108       143    1500.2\n",
      "79        270    100       131    1729.0\n",
      "109       210    137       184    1860.4\n",
      "60        210    108       160    1376.0\n",
      "106       180     90       120     800.3\n",
      "90        180    101       127     600.1\n",
      "65        180     90       130     800.4\n",
      "61        160    110       137    1034.4\n",
      "62        160    109       135     853.0\n",
      "67        150    107       130     816.0\n",
      "--Duration Bottom 10------\n",
      "     Duration  Pulse  Maxpulse  Calories\n",
      "68         20    106       136     110.4\n",
      "100        20     95       112      77.7\n",
      "89         20     83       107      50.3\n",
      "135        20    136       156     189.0\n",
      "94         20    150       171     127.4\n",
      "95         20    151       168     229.4\n",
      "139        20    141       162     222.4\n",
      "64         20    110       130     131.4\n",
      "112        15    124       139     124.2\n",
      "93         15     80       100      50.5\n",
      "Duration     63.846154\n",
      "Pulse       107.461538\n",
      "Maxpulse    134.047337\n",
      "Calories    375.800000\n",
      "dtype: float64\n"
     ]
    }
   ],
   "source": [
    "import pandas as pd\n",
    "\n",
    "#read csv and sort 'Duration' largest to smallest\n",
    "df = pd.read_csv('files/data.csv').sort_values(by=['Duration'], ascending=False)\n",
    "\n",
    "print(\"--Duration Top 10---------\")\n",
    "print(df.head(10))\n",
    "\n",
    "print(\"--Duration Bottom 10------\")\n",
    "print(df.tail(10))\n"
   ]
  },
  {
   "attachments": {},
   "cell_type": "markdown",
   "metadata": {},
   "source": [
    "# Hacks\n",
    "\n",
    "- Create your own dataset using a JSON file, integrating with your PBL project would be Kudos\n",
    "- Extract info from that database (ex. max, min, mean, median, mode, etc.) using Pandas functions \n",
    "- Answer College Board practice problems for 2.3\n"
   ]
  }
 ],
 "metadata": {
  "kernelspec": {
   "display_name": "base",
   "language": "python",
   "name": "python3"
  },
  "language_info": {
   "codemirror_mode": {
    "name": "ipython",
    "version": 3
   },
   "file_extension": ".py",
   "mimetype": "text/x-python",
   "name": "python",
   "nbconvert_exporter": "python",
   "pygments_lexer": "ipython3",
   "version": "3.9.12"
  },
  "orig_nbformat": 4,
  "vscode": {
   "interpreter": {
    "hash": "8b82d5009c68ba5675978267e2b13a671f2a7143d61273c5a3813c97e0b2493d"
   }
  }
 },
 "nbformat": 4,
 "nbformat_minor": 2
}
