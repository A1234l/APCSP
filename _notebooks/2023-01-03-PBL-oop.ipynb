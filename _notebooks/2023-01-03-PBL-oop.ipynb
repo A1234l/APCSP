{
 "cells": [
  {
   "cell_type": "markdown",
   "metadata": {},
   "source": [
    "# Python Object-Oriented Programming\n",
    "> Object Oriented Programming is very common in Python.  The objective of this blog is to introduce OOP with the intention of quickly transitioning to creating a database.  The foundations for a database is defining a Class and understanding instance data and methods.\n",
    "\n",
    "- title: Python Backend - OOP\n",
    "- toc: true\n",
    "- categories: []\n",
    "- image: /images/python.png\n",
    "- type: pbl\n",
    "- week: 17"
   ]
  },
  {
   "cell_type": "markdown",
   "metadata": {},
   "source": [
    "## Class and Object Terms\n",
    "> The foundations of Object-Oriented Programming is a ***Class***  \n",
    "* In Object-Oriented Programming (OOP), a class is a blueprint for creating an ***Object***. (a data structure).  An Object is used like many other Python variables.\n",
    "* A Class has ...\n",
    "    * a collection of data, these are called ***Variables*** and in Python are pre-fixed using the keyword ***self***\n",
    "    * a collection of Functions/Procedures.  These are called ***Methods** when they exist inside a Class definition.\n",
    "* An Object is created from the Class/Template.  Characteristics of objects ...\n",
    "   * an Object is an ***Instance*** of the Class/Template\n",
    "   * there can be many Objects created from the same Class\n",
    "   * each Object contains its own ***Instance Data***\n",
    "   * the data is setup by the ***Constructor***, this is the \"__init__\" method in a Python class\n",
    "   * all methods in the Class/Template become part of the Object, methods are accessed using ***dot notation*** (object.method())\n",
    "* A Python Class allow for the definition of @ decorators, these allow access to instance data without the use of functions ...\n",
    "    * @property decorator (aka getter).  This enables developers to reference/get instance data in a shorthand fashion (object.name versus object.get_name())\n",
    "    * @name.setter decorator (aka setter).  This enables developers to update/set instance data in a shorthand fashion (object.name = \"John\" versus object.set_name(\"John\"))\n",
    "    * observe all instance data (self._name, self._email ...) are prefixed with \"_\", this convention allows setters and getters to work with more natural variable name (name, email ...)"
   ]
  },
  {
   "cell_type": "markdown",
   "metadata": {},
   "source": [
    "## Class and Object Code"
   ]
  },
  {
   "cell_type": "code",
   "execution_count": 1,
   "metadata": {},
   "outputs": [
    {
     "name": "stdout",
     "output_type": "stream",
     "text": [
      "Test 1\n",
      "email: tedison@ge.com, name: Thomas Edison, psw: sha256$PkF...\n",
      "email: ntesla@twitter.com, name: Nicholas Tesla, psw: sha256$5pX...\n",
      "* email: agbell@att.com, name: Alexander Graham Bell, psw: sha256$4Bs...\n",
      "email: eliw@farmers.com, name: Eli Whitney, psw: sha256$ZZh...\n",
      "email: hedy@wifi.com, name: Hedy Lemarr, psw: sha256$oFG...\n",
      "Test 2\n",
      "email: tedison@ge.com, name: Thomas Edison, psw: sha256$PkF...\n",
      "email: ntesla@twitter.com, name: Nicholas Tesla, psw: sha256$5pX...\n",
      "email: jmort1021@gmail.com, name: John Mortensen, psw: sha256$9g5...\n",
      "email: eliw@farmers.com, name: Eli Whitney, psw: sha256$ZZh...\n",
      "email: hedy@wifi.com, name: Hedy Lemarr, psw: sha256$oFG...\n"
     ]
    }
   ],
   "source": [
    "# Werkzeug is a collection of libraries that can be used to create a WSGI (Web Server Gateway Interface)\n",
    "# A gateway in necessary as a web server cannot communicate directly with Python.\n",
    "# In this case, imports are focused on generating hash code to protect passwords.\n",
    "from werkzeug.security import generate_password_hash, check_password_hash\n",
    "\n",
    "# Define a User Class/Template\n",
    "# -- A User represents the data we want to manage\n",
    "class User:\n",
    "    \n",
    "    # constructor of a User object, initializes the instance variables within object (self)\n",
    "    def __init__(self, name, email, password):\n",
    "        self._name = name    # variables with self prefix become part of the object, \n",
    "        self._email = email\n",
    "        self.set_password(password)\n",
    "\n",
    "    # a name getter method, extracts name from object\n",
    "    @property\n",
    "    def name(self):\n",
    "        return self._name\n",
    "    \n",
    "    # a setter function, allows name to be updated after initial object creation\n",
    "    @name.setter\n",
    "    def name(self, name):\n",
    "        self._name = name\n",
    "    \n",
    "    # a getter method, extracts email from object\n",
    "    @property\n",
    "    def email(self):\n",
    "        return self._email\n",
    "    \n",
    "    # a setter function, allows name to be updated after initial object creation\n",
    "    @email.setter\n",
    "    def email(self, email):\n",
    "        self._email = email\n",
    "        \n",
    "    # check if email matches email in object\n",
    "    def is_email_match(self, email):\n",
    "        return self._email == email\n",
    "    \n",
    "    @property\n",
    "    def password(self):\n",
    "        return self._password[0:10] + \"...\" # because of security only show 1st characters\n",
    "\n",
    "    # update password, this is conventional setter\n",
    "    def set_password(self, password):\n",
    "        \"\"\"Create a hashed password.\"\"\"\n",
    "        self._password = generate_password_hash(password, method='sha256')\n",
    "\n",
    "    # check password parameter versus stored/encrypted password\n",
    "    def is_password_match(self, password):\n",
    "        \"\"\"Check against hashed password.\"\"\"\n",
    "        result = check_password_hash(self._password, password)\n",
    "        return result\n",
    "\n",
    "# tester method to print users\n",
    "def tester(users):\n",
    "    for user in users:\n",
    "        # test for match in database\n",
    "        if user.email == \"agbell@att.com\" and user.is_password_match(\"123lex\"):  # check for match\n",
    "            print(\"* \", end=\"\")\n",
    "        # print @property abstraction from object\n",
    "        print(\"email: \" + user.email + \n",
    "              \", name: \" + user.name + \n",
    "              \", psw: \" + user.password)\n",
    "        \n",
    "# define user objects\n",
    "u1 = User(name='Thomas Edison', email='tedison@ge.com', password='123toby')\n",
    "u2 = User(name='Nicholas Tesla', email='ntesla@twitter.com', password='123nick')\n",
    "u3 = User(name='Alexander Graham Bell', email='agbell@att.com', password='123lex')\n",
    "u4 = User(name='Eli Whitney', email='eliw@farmers.com', password='123eli')\n",
    "u5 = User(name='Hedy Lemarr', email='hedy@wifi.com', password='123hedy')\n",
    "\n",
    "# put user objects in list for convenience\n",
    "users = [u1, u2, u3, u4, u5]\n",
    "\n",
    "# Print original list\n",
    "print(\"Test 1\")\n",
    "tester(users)\n",
    "\n",
    "# Change user 3 in list\n",
    "print(\"Test 2\")\n",
    "u3.name = \"John Mortensen\"\n",
    "u3.email = \"jmort1021@gmail.com\"\n",
    "u3.set_password(\"123qwerty\")\n",
    "tester(users)\n"
   ]
  },
  {
   "cell_type": "markdown",
   "metadata": {},
   "source": [
    "## Hacks\n",
    "> Add Date of Birth (dob) to the Class.  This will require investigation into Python datetime objects as shown in example code.\n",
    "- Add setter and getter for dob\n",
    "- Add instance variable for age, make sure if dob changes age changes\n",
    "\n",
    "> My recommendation is to have constructor and setter work off from a string parameter for dob, it is more common that a date over an API would have string form \"2023/12/31\".  Store the data as a date, do conversions from string to date and date to string."
   ]
  },
  {
   "cell_type": "markdown",
   "metadata": {},
   "source": [
    "## Start Code for Hacks"
   ]
  },
  {
   "cell_type": "code",
   "execution_count": 3,
   "metadata": {},
   "outputs": [
    {
     "name": "stdout",
     "output_type": "stream",
     "text": [
      "17\n"
     ]
    }
   ],
   "source": [
    "from datetime import date\n",
    "\n",
    "def calculate_age(born):\n",
    "    today = date.today()\n",
    "    return today.year - born.year - ((today.month, today.day) < (born.month, born.day))\n",
    "\n",
    "dob = date(2004, 12, 31)\n",
    "age = calculate_age(dob)\n",
    "print(age)"
   ]
  },
  {
   "cell_type": "markdown",
   "metadata": {},
   "source": []
  }
 ],
 "metadata": {
  "kernelspec": {
   "display_name": "Python 3.9.12 ('base')",
   "language": "python",
   "name": "python3"
  },
  "language_info": {
   "codemirror_mode": {
    "name": "ipython",
    "version": 3
   },
   "file_extension": ".py",
   "mimetype": "text/x-python",
   "name": "python",
   "nbconvert_exporter": "python",
   "pygments_lexer": "ipython3",
   "version": "3.9.12"
  },
  "orig_nbformat": 4,
  "vscode": {
   "interpreter": {
    "hash": "8b82d5009c68ba5675978267e2b13a671f2a7143d61273c5a3813c97e0b2493d"
   }
  }
 },
 "nbformat": 4,
 "nbformat_minor": 2
}
