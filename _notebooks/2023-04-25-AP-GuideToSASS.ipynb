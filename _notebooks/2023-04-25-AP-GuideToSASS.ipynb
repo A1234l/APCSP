{
 "cells": [
  {
   "attachments": {},
   "cell_type": "markdown",
   "metadata": {},
   "source": [
    "# P4-Y 4/25 Guide to SASS \n",
    "> An guide on how to use SASS to build a more customized frontend.\n",
    "- title: Guide to SASS\n",
    "- toc: true\n",
    "- comments: true\n",
    "- author: Ryan, Aniket, Max T, Jaden, Evan, Kalani, Max W, Nathan\n",
    "- tags: [student]\n",
    "- type: ap\n",
    "- week: 31"
   ]
  }
 ],
 "metadata": {
  "language_info": {
   "name": "python"
  },
  "orig_nbformat": 4
 },
 "nbformat": 4,
 "nbformat_minor": 2
}
