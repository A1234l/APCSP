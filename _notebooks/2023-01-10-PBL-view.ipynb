{
 "cells": [
  {
   "cell_type": "markdown",
   "metadata": {},
   "source": [
    "# View, JavaScript, Frontend\n",
    "> Frontend programming and backend design will always be related.  In view design for this blog, we will go back to the Classroom design we did at the beginning of year.  In this effort, we need will need to consider what data we need to create a Teacher/Student table and note system.  Finally, in building Views you we will need to create in frontend designs that will work with the backend database.\n",
    "\n",
    "- title: View, JavaScript, Frontend\n",
    "- toc: true\n",
    "- categories: []\n",
    "- image: /images/javascript.png\n",
    "- type: pbl\n",
    "- week: 18"
   ]
  },
  {
   "cell_type": "markdown",
   "metadata": {},
   "source": [
    "## JavaScript and OOP\n",
    "> JavaScript has a very flexible syntax.  In the model we did at the beginning of the year we were making objects in JavaScript.  Though we were using the word ***function*** every attribute we similar to class we were designing in Python.  The ***this*** keyword performs same function as the ***self*** keyword in Python. In both languages referencing elements with this/self and ***dot*** notation allows access to attributes.  Look at JavaScript this.name, this.uid, ... below.  Also, a key element is this example is the Pseudo JSON that is output at the end.  JSON will be passed between Model and View using an API."
   ]
  },
  {
   "cell_type": "code",
   "execution_count": 2,
   "metadata": {},
   "outputs": [
    {
     "data": {
      "text/plain": [
       "Classroom {\n",
       "  teacher:\n",
       "   Person { name: 'Mr M', uid: 'jm1021', classOf: 1977, role: 'Teacher' },\n",
       "  classroom:\n",
       "   [ Person {\n",
       "       name: 'Anthony',\n",
       "       uid: 'tonyhieu',\n",
       "       classOf: 2022,\n",
       "       role: 'Student' },\n",
       "     Person { name: 'Bria', uid: 'B-G101', classOf: 2023, role: 'Student' },\n",
       "     Person { name: 'Allie', uid: 'xiaoa0', classOf: 2023, role: 'Student' },\n",
       "     Person { name: 'Tigran', uid: 'Tigran7', classOf: 2023, role: 'Student' },\n",
       "     Person {\n",
       "       name: 'Rebecca',\n",
       "       uid: 'Rebecca-123',\n",
       "       classOf: 2023,\n",
       "       role: 'Student' },\n",
       "     Person { name: 'Vidhi', uid: 'unknown', classOf: 2024, role: 'Student' } ],\n",
       "  students:\n",
       "   [ Person {\n",
       "       name: 'Anthony',\n",
       "       uid: 'tonyhieu',\n",
       "       classOf: 2022,\n",
       "       role: 'Student' },\n",
       "     Person { name: 'Bria', uid: 'B-G101', classOf: 2023, role: 'Student' },\n",
       "     Person { name: 'Allie', uid: 'xiaoa0', classOf: 2023, role: 'Student' },\n",
       "     Person { name: 'Tigran', uid: 'Tigran7', classOf: 2023, role: 'Student' },\n",
       "     Person {\n",
       "       name: 'Rebecca',\n",
       "       uid: 'Rebecca-123',\n",
       "       classOf: 2023,\n",
       "       role: 'Student' },\n",
       "     Person { name: 'Vidhi', uid: 'unknown', classOf: 2024, role: 'Student' } ],\n",
       "  json:\n",
       "   [ '{\"name\":\"Anthony\",\"uid\":\"tonyhieu\",\"classOf\":2022,\"role\":\"Student\"}',\n",
       "     '{\"name\":\"Bria\",\"uid\":\"B-G101\",\"classOf\":2023,\"role\":\"Student\"}',\n",
       "     '{\"name\":\"Allie\",\"uid\":\"xiaoa0\",\"classOf\":2023,\"role\":\"Student\"}',\n",
       "     '{\"name\":\"Tigran\",\"uid\":\"Tigran7\",\"classOf\":2023,\"role\":\"Student\"}',\n",
       "     '{\"name\":\"Rebecca\",\"uid\":\"Rebecca-123\",\"classOf\":2023,\"role\":\"Student\"}',\n",
       "     '{\"name\":\"Vidhi\",\"uid\":\"unknown\",\"classOf\":2024,\"role\":\"Student\"}' ] }"
      ]
     },
     "execution_count": 2,
     "metadata": {},
     "output_type": "execute_result"
    }
   ],
   "source": [
    "// define a function to hold data for a Person\n",
    "function Person(name, uid, classOf) {\n",
    "    this.name = name;\n",
    "    this.uid = uid;\n",
    "    this.classOf = classOf;\n",
    "    this.role = \"\";\n",
    "}\n",
    "\n",
    "// define a setter for role in Person data\n",
    "Person.prototype.setRole = function(role) {\n",
    "    this.role = role;\n",
    "}\n",
    "\n",
    "// define a JSON conversion \"method\" associated with Person\n",
    "Person.prototype.toJSON = function() {\n",
    "    const obj = {name: this.name, uid: this.uid, classOf: this.classOf, role: this.role};\n",
    "    const json = JSON.stringify(obj);\n",
    "    return json;\n",
    "}\n",
    "\n",
    "var teacher = new Person(\"Mr M\", \"jm1021\", 1977);  // object type is easy to work with in JavaScript\n",
    "\n",
    "// define a student Array of Person(s)\n",
    "var students = [ \n",
    "    new Person(\"Anthony\", \"tonyhieu\", 2022),\n",
    "    new Person(\"Bria\", \"B-G101\", 2023),\n",
    "    new Person(\"Allie\", \"xiaoa0\", 2023),\n",
    "    new Person(\"Tigran\", \"Tigran7\", 2023),\n",
    "    new Person(\"Rebecca\", \"Rebecca-123\", 2023),\n",
    "    new Person(\"Vidhi\", \"unknown\", 2024)\n",
    "];\n",
    "\n",
    "// define a classroom and build Classroom objects and json\n",
    "function Classroom(teacher, students){ // 1 teacher, many student\n",
    "    // start Classroom with Teacher\n",
    "    teacher.setRole(\"Teacher\");\n",
    "    this.teacher = teacher;\n",
    "    // add each Student to Classroom\n",
    "    this.classroom = [];\n",
    "    this.students = students;\n",
    "    this.students.forEach(student => { student.setRole(\"Student\"); this.classroom.push(student); });\n",
    "    // build json/string format of Classroom\n",
    "    this.json = [];\n",
    "    this.classroom.forEach(person => this.json.push(person.toJSON()));\n",
    "}\n",
    "\n",
    "compsci = new Classroom(teacher, students);\n"
   ]
  },
  {
   "cell_type": "markdown",
   "metadata": {},
   "source": [
    "## HTML and JavaScript\n",
    "> HTML, JavaScript, and a JavaScript fetch will be used to construct our final View solution.  The below example form the beginning of the year can be used to establish View design prior to Model and API being completed."
   ]
  },
  {
   "cell_type": "code",
   "execution_count": 3,
   "metadata": {},
   "outputs": [
    {
     "data": {
      "text/html": [
       "<div style='display:inline-block;border: 2px solid grey;box-shadow: 0.8em 0.4em 0.4em grey;'><table><tr><th><mark>Role</mark></th><th><mark>Name</mark></th><th><mark>GitHub ID</mark></th><th><mark>Class Of</mark></th><th><mark>Date of Birth</mark></th><th><mark>Age</mark></th></tr><tr><td>Student</td><td>Anthony</td><td>tonyhieu</td><td>2022</td><td>undefined</td><td>undefined</td><tr><tr><td>Student</td><td>Bria</td><td>B-G101</td><td>2023</td><td>undefined</td><td>undefined</td><tr><tr><td>Student</td><td>Allie</td><td>xiaoa0</td><td>2023</td><td>undefined</td><td>undefined</td><tr><tr><td>Student</td><td>Tigran</td><td>Tigran7</td><td>2023</td><td>undefined</td><td>undefined</td><tr><tr><td>Student</td><td>Rebecca</td><td>Rebecca-123</td><td>2023</td><td>undefined</td><td>undefined</td><tr><tr><td>Student</td><td>Vidhi</td><td>unknown</td><td>2024</td><td>undefined</td><td>undefined</td><tr></table></div>"
      ]
     },
     "execution_count": 3,
     "metadata": {},
     "output_type": "execute_result"
    }
   ],
   "source": [
    "// define an HTML conversion \"method\" associated with Data\n",
    "Classroom.prototype._toHtml = function() {\n",
    "    // HTML Style is build using inline structure\n",
    "    var style = (\n",
    "      \"display:inline-block;\" +\n",
    "      \"border: 2px solid grey;\" +\n",
    "      \"box-shadow: 0.8em 0.4em 0.4em grey;\"\n",
    "    );\n",
    "  \n",
    "    // HTML Body of Table is build as a series of concatenations (+=)\n",
    "    var body = \"\";\n",
    "    // Heading for Array Columns\n",
    "    body += \"<tr>\";\n",
    "    body += \"<th><mark>\" + \"Role\" + \"</mark></th>\";\n",
    "    body += \"<th><mark>\" + \"Name\" + \"</mark></th>\";\n",
    "    body += \"<th><mark>\" + \"GitHub ID\" + \"</mark></th>\";\n",
    "    body += \"<th><mark>\" + \"Class Of\" + \"</mark></th>\";\n",
    "    body += \"<th><mark>\" + \"Date of Birth\" + \"</mark></th>\";\n",
    "    body += \"<th><mark>\" + \"Age\" + \"</mark></th>\";\n",
    "    body += \"</tr>\";\n",
    "    // Data of Array, iterate through each row of compsci.classroom \n",
    "    for (var row of compsci.classroom) {\n",
    "      // tr for each row, a new line\n",
    "      body += \"<tr>\";\n",
    "      // td for each column of data\n",
    "      body += \"<td>\" + row.role + \"</td>\";\n",
    "      body += \"<td>\" + row.name + \"</td>\";\n",
    "      body += \"<td>\" + row.uid + \"</td>\";\n",
    "      body += \"<td>\" + row.classOf + \"</td>\";\n",
    "      body += \"<td>\" + row.dob + \"</td>\";\n",
    "      body += \"<td>\" + row.age + \"</td>\";\n",
    "      // tr to end line\n",
    "      body += \"<tr>\";\n",
    "    }\n",
    "  \n",
    "     // Build and HTML fragment of div, table, table body\n",
    "    return (\n",
    "      \"<div style='\" + style + \"'>\" +\n",
    "        \"<table>\" +\n",
    "          body +\n",
    "        \"</table>\" +\n",
    "      \"</div>\"\n",
    "    );\n",
    "  \n",
    "  };\n",
    "  \n",
    "  // IJavaScript HTML processor receive parameter of defined HTML fragment\n",
    "  $$.html(compsci._toHtml());"
   ]
  },
  {
   "cell_type": "markdown",
   "metadata": {},
   "source": [
    "## View/CRUD Concepts\n",
    "> In this particular project, my key idea is to build a system for capturing key information on students and allowing the to blog to Teacher.  CRUD operations are as follows...\n",
    "- Create new records\n",
    "- Read a list of students\n",
    "- Update student data\n",
    "- Delete records\n",
    "\n",
    "![Screen Concept](images/crud.png)"
   ]
  },
  {
   "cell_type": "markdown",
   "metadata": {},
   "source": [
    "## View/Blog Concepts\n",
    "> A notes/blog will be created to add ***Notes*** between students and teacher.  \n",
    "- Most recent message on top\n",
    "- Messages support inclusion of images\n",
    "\n",
    "![Notes and Images](images/notes.png)\n"
   ]
  },
  {
   "cell_type": "markdown",
   "metadata": {},
   "source": [
    "## Hacks\n",
    "> Preliminary Design for Create Performance Task.  Correlate design between backend model, frontend view., and visuals above. This particular Jupyter Notebook and code within it are used to help establish a design.   This is to place ideas and use JavaScript and HTML to establish concepts.  Student teams can use Student/Teacher project for starters, but ultimately will create their own Project.  Start a design...\n",
    "- The project must have View and Model.  Describe your project.\n",
    "- The project should contain a relationship between of data, this means that a student can have 0 to many blogs.  This is called a 1-to-Many relationship.  Describe your data.\n",
    "- Start design in a Jupyter Notebook and create Issues in your Teams GitHub repository. Make sure attributes between Model and View are consistent in your design.  For instance, if you use Student/Teacher as your initial project there are many things that are inconsistent between the View Notebook and the Model Notebook.\n",
    "- Issues should discuss problems/challenges, in Teacher/Student data here are a couple ... \n",
    "    - This design will have many APIs, at least one for each CRUD operation\n",
    "    - In model design, their is a choice to go away from email to uid (github username), also the Model is more accurate to desired data than visuals in the document.\n",
    "    - In model design, there are data issues for how to handle dob and age.  Some data is stored and some is calculated.\n",
    "    - In database design,  database basics and  1-to-many relationships need to be learned.\n",
    "    - JSON contract between frontend and backend needs to be created\n",
    "    - Control/APIs between Model and View need to be created based off of what we learned from Jokes.\n",
    "    - Project needs to be reviewed against Create Performance Task Requirements."
   ]
  }
 ],
 "metadata": {
  "kernelspec": {
   "display_name": "JavaScript (Node.js)",
   "language": "javascript",
   "name": "javascript"
  },
  "language_info": {
   "file_extension": ".js",
   "mimetype": "application/javascript",
   "name": "javascript",
   "version": "10.13.0"
  },
  "orig_nbformat": 4
 },
 "nbformat": 4,
 "nbformat_minor": 2
}
