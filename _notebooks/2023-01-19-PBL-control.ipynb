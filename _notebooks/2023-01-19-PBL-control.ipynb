{
 "cells": [
  {
   "attachments": {},
   "cell_type": "markdown",
   "metadata": {},
   "source": [
    "# Control, Python, Backend, API\n",
    "> Between Model and View is Control.  In this Web application it will be handled by APIs.  Data will be input and displayed through View and stored in Model.  Control will broker information between projects.\n",
    "\n",
    "- title: Control, Python, Backend, API\n",
    "- toc: true\n",
    "- categories: []\n",
    "- image: /images/python.png\n",
    "- type: pbl\n",
    "- week: 19"
   ]
  },
  {
   "cell_type": "markdown",
   "metadata": {},
   "source": [
    "# Control and API Terms\n",
    "> APIs work with methods to GET, POST, PUT, and UPDATE data.  Control helps with Requests, Response, and handling JSON.\n",
    "- POST APIs interact with CREATE methods in Model.\n",
    "- GET with READ\n",
    "- PUT with UPDATE.\n",
    "- DELETE with DELETE.\n",
    "\n",
    "> During development it is best to work with Model and Control without involving View initially.   To support this type of development ...\n",
    "- Become familiar with [Postman](https://www.postman.com/downloads/)\n",
    "- Alternately become familiar with work with APIs through ***curl***"
   ]
  },
  {
   "attachments": {},
   "cell_type": "markdown",
   "metadata": {},
   "source": [
    "> ***Control/API Concepts***\n",
    "1. [Define API objects (api/user.py)](https://github.com/nighthawkcoders/flask_portfolio/blob/main/api/user.py#L7-L11)\n",
    "2. [Register API objects (main.py)](https://github.com/nighthawkcoders/flask_portfolio/blob/main/main.py#L11-L23)\n",
    "3. [Create/POST method](https://github.com/nighthawkcoders/flask_portfolio/blob/main/api/user.py#L14-L54)\n",
    "4. [Read/GET method](https://github.com/nighthawkcoders/flask_portfolio/blob/main/api/user.py#L14-L54)\n",
    "5. [Define API endpoints](https://github.com/nighthawkcoders/flask_portfolio/blob/main/api/user.py#L62-L64)\n",
    "\n",
    "> ***Backend Testing***\n",
    "1. [Download Postman](https://www.postman.com/downloads/)\n",
    "2. [Localhost run](https://github.com/nighthawkcoders/flask_portfolio/blob/main/main.py#L44-L47)"
   ]
  }
 ],
 "metadata": {
  "kernelspec": {
   "display_name": "Python 3.9.12 ('base')",
   "language": "python",
   "name": "python3"
  },
  "language_info": {
   "name": "python",
   "version": "3.9.12 (main, Apr  5 2022, 01:53:17) \n[Clang 12.0.0 ]"
  },
  "orig_nbformat": 4,
  "vscode": {
   "interpreter": {
    "hash": "8b82d5009c68ba5675978267e2b13a671f2a7143d61273c5a3813c97e0b2493d"
   }
  }
 },
 "nbformat": 4,
 "nbformat_minor": 2
}
