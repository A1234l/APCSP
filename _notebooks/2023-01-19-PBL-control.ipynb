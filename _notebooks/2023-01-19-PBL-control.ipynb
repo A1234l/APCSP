{
 "cells": [
  {
   "attachments": {},
   "cell_type": "markdown",
   "metadata": {},
   "source": [
    "# Control, Python, Backend, API\n",
    "> Between Model and View is Control.  In this Web application it will be handled by APIs.  Data will be input and displayed through View and stored in Model.  Control will broker information between projects.\n",
    "\n",
    "- title: Control, Python, Backend, API\n",
    "- toc: true\n",
    "- categories: []\n",
    "- image: /images/python.png\n",
    "- type: pbl\n",
    "- week: 19"
   ]
  },
  {
   "cell_type": "markdown",
   "metadata": {},
   "source": [
    "# Control and API Terms\n",
    "> APIs work with methods to GET, POST, PUT, and UPDATE data.  Control helps with Requests, Response, and handling JSON.\n",
    "- POST APIs interact with CREATE methods in Model.\n",
    "- GET with READ\n",
    "- PUT with UPDATE.\n",
    "- DELETE with DELETE.\n",
    "\n",
    "> During development it is best to work with Model and Control without involving View initially.   To support this type of development ...\n",
    "- Become familiar with [Postman](https://www.postman.com/downloads/)\n",
    "- Alternately become familiar with work with APIs through ***curl***"
   ]
  },
  {
   "attachments": {},
   "cell_type": "markdown",
   "metadata": {},
   "source": [
    "> ***Control/API Concepts***\n",
    "1. [Define API objects (api/user.py)](https://github.com/nighthawkcoders/flask_portfolio/blob/main/api/user.py#L7-L11)\n",
    "2. [Register API objects (main.py)](https://github.com/nighthawkcoders/flask_portfolio/blob/main/main.py#L11-L23)\n",
    "3. [Create/POST method](https://github.com/nighthawkcoders/flask_portfolio/blob/main/api/user.py#L14-L54)\n",
    "4. [Read/GET method](https://github.com/nighthawkcoders/flask_portfolio/blob/main/api/user.py#L14-L54)\n",
    "5. [Define API endpoints](https://github.com/nighthawkcoders/flask_portfolio/blob/main/api/user.py#L62-L64)\n",
    "\n"
   ]
  },
  {
   "attachments": {},
   "cell_type": "markdown",
   "metadata": {},
   "source": [
    "### Testing APIs\n",
    "> ***Backend Testing*** of APIs is best done through Browser for simple GET APIs, but other API methods (POST, UPDATE, DELETE) will require a tool like PostMan.\n",
    "\n",
    "1. [Download Postman](https://www.postman.com/downloads/).  This tool test APIs effectively on localhost and is great aid for debugging.\n",
    "2. [Main.py runtime configuration](https://github.com/nighthawkcoders/flask_portfolio/blob/main/main.py#L44-L47).  This configuration is setup to produce same port and localhost as deployment.\n",
    "\n",
    "***`Run` locally as you develop*** Select main.py file in VSCode and press Play button, or press down arrow next to Play button to activate Debug testing.  The below dialog will appear in Terminal, though IP address will match you machines.\n",
    "\n",
    "```bash\n",
    "(base) machine:flask_portfolio user$  cd /Users/user/vscode/flask_portfolio ; /usr/bin/env /Users/user/opt/anaconda3/bin/python /Users/user/.vscode/extensions/ms-python.python-2022.20.2/pythonFiles/lib/python/debugpy/adapter/../../debugpy/launcher 61127 -- /Users/user/vscode/flask_portfolio/main.py \n",
    " * Serving Flask app \"__init__\" (lazy loading)\n",
    " * Environment: production\n",
    "   WARNING: This is a development server. Do not use it in a production deployment.\n",
    "   Use a production WSGI server instead.\n",
    " * Debug mode: on\n",
    " * Running on all addresses.\n",
    "   WARNING: This is a development server. Do not use it in a production deployment.\n",
    " * Running on http://192.168.1.75:8086/ (Press CTRL+C to quit)\n",
    " * Restarting with watchdog (fsevents)\n",
    " * Debugger is active!\n",
    " * Debugger PIN: 403-552-045\n",
    "```\n",
    "\n",
    "***`Test` API GET locally with Postman***.  Observe that tests may be saved.  \n",
    "![](images/postmain_read_get_users.png)\n",
    "\n",
    "***`Test` API POST locally with Postman***.  In this case, Postman can be used to add new records to the table.  Observe options to pass data using Body raw-json.\n",
    "![](images/postman_create_post_users.png)"
   ]
  }
 ],
 "metadata": {
  "kernelspec": {
   "display_name": "Python 3.9.12 ('base')",
   "language": "python",
   "name": "python3"
  },
  "language_info": {
   "name": "python",
   "version": "3.9.12 (main, Apr  5 2022, 01:53:17) \n[Clang 12.0.0 ]"
  },
  "orig_nbformat": 4,
  "vscode": {
   "interpreter": {
    "hash": "8b82d5009c68ba5675978267e2b13a671f2a7143d61273c5a3813c97e0b2493d"
   }
  }
 },
 "nbformat": 4,
 "nbformat_minor": 2
}
