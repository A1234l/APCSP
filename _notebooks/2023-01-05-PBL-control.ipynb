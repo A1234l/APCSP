{
 "cells": [
  {
   "cell_type": "markdown",
   "metadata": {},
   "source": [
    "# Control, Python, Backend, API\n",
    "> Between Model and View is Control.  In this Web application it will be handled by APIs.  Data will be input and displayed through View and stored in Model.  Control will broker information between projects.\n",
    "\n",
    "- title: Control, Python, Backend, API\n",
    "- toc: true\n",
    "- categories: []\n",
    "- image: /images/python.png\n",
    "- type: pbl\n",
    "- week: 17"
   ]
  },
  {
   "cell_type": "markdown",
   "metadata": {},
   "source": [
    "# Control and API Terms\n",
    "> APIs work with methods to GET, POST, PUT, and UPDATE data.  Control helps with Requests, Response, and handling JSON.\n",
    "- POST APIs interact with CREATE methods in Model.\n",
    "- GET with READ\n",
    "- PUT with UPDATE.\n",
    "- DELETE with DELETE.\n",
    "\n",
    "> During development it is best to work with Model and Control without involving View initially.   To support this type of development ...\n",
    "- Become familiar with [Postman](https://www.postman.com/downloads/)\n",
    "- Alternately become familiar with work with APIs through ***curl***"
   ]
  }
 ],
 "metadata": {
  "kernelspec": {
   "display_name": "Python 3.11.0 64-bit",
   "language": "python",
   "name": "python3"
  },
  "language_info": {
   "name": "python",
   "version": "3.11.0"
  },
  "orig_nbformat": 4,
  "vscode": {
   "interpreter": {
    "hash": "1a1af0ee75eeea9e2e1ee996c87e7a2b11a0bebd85af04bb136d915cefc0abce"
   }
  }
 },
 "nbformat": 4,
 "nbformat_minor": 2
}
