{
 "cells": [
  {
   "attachments": {},
   "cell_type": "markdown",
   "metadata": {},
   "source": [
    "#  Using Programs with Data\n",
    "> Creating common algorithms for analyzing data\n",
    "- toc: true\n",
    "- image: /images/python.png\n",
    "- categories: []\n",
    "- type: ap\n",
    "- week: 20"
   ]
  },
  {
   "cell_type": "code",
   "execution_count": 6,
   "metadata": {},
   "outputs": [
    {
     "name": "stdout",
     "output_type": "stream",
     "text": [
      "  country_name       cases     deaths region total_recovered new_deaths  \\\n",
      "0          USA  82,649,779  1,018,316             80,434,925          0   \n",
      "1        India  43,057,545    522,193             42,519,479          0   \n",
      "2       Brazil  30,345,654    662,663             29,364,400          0   \n",
      "3       France  28,244,977    145,020             25,852,832          0   \n",
      "4      Germany  24,109,433    134,624             21,243,000          0   \n",
      "\n",
      "  new_cases serious_critical active_cases total_cases_per_1m_population  \\\n",
      "0         0            1,465    1,196,538                       247,080   \n",
      "1         0              698       15,873                        30,657   \n",
      "2         0            8,318      318,591                       140,954   \n",
      "3         0            1,677    2,247,125                       430,996   \n",
      "4         0            1,980    2,731,809                       286,106   \n",
      "\n",
      "  deaths_per_1m_population    total_tests tests_per_1m_population  \n",
      "0                    3,044  1,000,275,726               2,990,303  \n",
      "1                      372    834,717,702                 594,319  \n",
      "2                    3,078     63,776,166                 296,238  \n",
      "3                    2,213    266,484,045               4,066,333  \n",
      "4                    1,598    122,332,384               1,451,714  \n"
     ]
    }
   ],
   "source": [
    "'''Pandas can be used to analyze data'''\n",
    "import pandas as pd\n",
    "import requests\n",
    "\n",
    "'''Obtain data from an endpoint'''\n",
    "url = \"https://flask.nighthawkcodingsociety.com/api/covid/\"\n",
    "fetch = requests.get(url)\n",
    "json = fetch.json()\n",
    "\n",
    "df = pd.DataFrame(json['countries_stat'])  # filter endpoint for country stats\n",
    "\n",
    "print(df.head(5)) # show top 5 records"
   ]
  }
 ],
 "metadata": {
  "kernelspec": {
   "display_name": "base",
   "language": "python",
   "name": "python3"
  },
  "language_info": {
   "codemirror_mode": {
    "name": "ipython",
    "version": 3
   },
   "file_extension": ".py",
   "mimetype": "text/x-python",
   "name": "python",
   "nbconvert_exporter": "python",
   "pygments_lexer": "ipython3",
   "version": "3.9.12"
  },
  "orig_nbformat": 4,
  "vscode": {
   "interpreter": {
    "hash": "8b82d5009c68ba5675978267e2b13a671f2a7143d61273c5a3813c97e0b2493d"
   }
  }
 },
 "nbformat": 4,
 "nbformat_minor": 2
}
