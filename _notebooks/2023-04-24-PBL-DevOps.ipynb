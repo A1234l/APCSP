{
 "cells": [
  {
   "attachments": {},
   "cell_type": "markdown",
   "metadata": {},
   "source": [
    "# P4-Y 4/24 DevOps for Dev Tools\n",
    "> Devops Guide to setting up Developer Tools and Environments\n",
    "- toc: true\n",
    "- badges: false\n",
    "- comments: true\n",
    "- author: Vardaan, Shaurya, Shivansh, Vyaan, Dhruva, Nicolas, Prasith, Justin\n",
    "- categories: [student]\n",
    "- type: ap\n",
    "- week: 31"
   ]
  },
  {
   "attachments": {},
   "cell_type": "markdown",
   "metadata": {},
   "source": [
    "**4/24 Presentation Outline**:\n",
    "\n",
    "AWS and Deployment, Docker, Nginx Improvements (Shaurya and Shivansh)\n",
    "We will go through this for 3-5 minutes and make sure that the class understands any updates that we made, and go through the deployment review. This is a concept that mostly everyone is already familiar with, so we won't take too much time on this.\n",
    "\n",
    "DNS Setup (Shaurya and Shivansh)\n",
    "DNS Setup incorporated with EC2. We will go more into DuckDNS, building off of what Jeffrey built. This will be presented for around 7-9 minutes.\n",
    "\n",
    "What is KASM? (Justin and Vardaan)\n",
    "We will go through this blog post for 3-5 minutes and make sure that the class understands the basics and we can answer any questions if necessary.\n",
    "\n",
    "KASM on EC2 Guide (Justin and Vardaan)\n",
    "We will go through this notebook for around 7-9 minutes. This is a setup process that may take up too much time for one class period for everyone to follow along and install all the necessary features for, so we will go through it ourselves with pictures and code blocks.\n",
    "\n",
    "Advanced Security Certbot (Dhruva and Vyaan)\n",
    "We will go through this overview for 3-5 minutes. Mostly everyone is familiar with Certbot, but we will dive deeper with this post overview and make sure to clarify any concerns/questions.\n",
    "\n",
    "Discovering Alternatives to Certbot (Dhruva and Vyaan)\n",
    "We will go through other alternatives to Certbot. We will explain the pros/cons of these alternatives and come to a final conclusion of which platform we should utilize for this aim, and make sure to explain our backing. This should take 5-7 minutes.\n",
    "\n",
    "The different types of AWS Databases (Nicolas and Prasith)\n",
    "We will go through all the different types of AWS databases. This is going to be an overview of how each of these databases work, and review the SQLite functionalities as well. This should take 5-7 minutes.\n",
    "\n",
    "Pros/Cons of each of the AWS Databases in comparison to SQLite (line-by-line comparison) (Nicolas and Prasith)\n",
    "This will be an in-depth comparison, should take 5-7 minutes.\n",
    "\n",
    "Implementing these AWS Databases (Notebook) (Nicolas and Prasith)\n",
    "We will go through the code blocks and have a comprehensive guide on how to implement these different AWS Databases. This will be similar to the SQLite setup implementation to make it easy to understand. This should take 7-9 minutes.\n",
    "\n",
    "**HOMEWORK/HACKS:**\n",
    "\n",
    "We will likely add questions within code blocks, or questions in regards to researching even more about some of the applications that we talk about (within blogs or notebooks).\n",
    "\n",
    "We will also ask for a notebook where they show off some of the functionalities of an AWS DB of their choice.\n",
    "\n",
    "\n",
    "\n",
    "**GRADING:**\n",
    "\n",
    "0.9/1: Finishing all of the hacks\n",
    "\n",
    "0.8/1: Trying the hacks but not completing them\n",
    "\n",
    "0.7/1; Not doing the hacks at all\n",
    "\n",
    "Overall, this entire presentation should take around 60-65 minutes, essentially taking up the whole class period."
   ]
  }
 ],
 "metadata": {
  "kernelspec": {
   "display_name": "Python 3",
   "language": "python",
   "name": "python3"
  },
  "language_info": {
   "name": "python",
   "version": "3.8.10"
  },
  "orig_nbformat": 4,
  "vscode": {
   "interpreter": {
    "hash": "916dbcbb3f70747c44a77c7bcd40155683ae19c65e1c03b4aa3499c5328201f1"
   }
  }
 },
 "nbformat": 4,
 "nbformat_minor": 2
}
