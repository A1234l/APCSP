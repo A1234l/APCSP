{
 "cells": [
  {
   "attachments": {},
   "cell_type": "markdown",
   "metadata": {},
   "source": [
    "#  Data Analysis including Numpy and Pandas (Big Idea 2)\n",
    "> Period 4 Yeung Data Analysis Presentation day April 27\n",
    "toc: true\n",
    "badges: false\n",
    "comments: true\n",
    "author: Caleb Navarro, Eli Gilmur, Mati Danish, Khalid Farah, AJ Ruiz, Luke Angelini, Jame Armstrong, Shreyas Sarurkar\n",
    "categories: [student]\n",
    "type: ap\n",
    "week: 30"
   ]
  }
 ],
 "metadata": {
  "language_info": {
   "name": "python"
  },
  "orig_nbformat": 4
 },
 "nbformat": 4,
 "nbformat_minor": 2
}
