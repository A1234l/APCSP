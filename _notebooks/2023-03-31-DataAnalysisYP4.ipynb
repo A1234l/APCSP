{
 "cells": [
  {
   "cell_type": "markdown",
   "metadata": {},
   "source": [
    "#  Data Analysis including Numpy and Pandas (Big Idea 2)\n",
    "> Period 4 Yeung Data Analysis Presentation day April 27\n",
    "- toc: true\n",
    "- comments: true\n",
    "- tags: []\n",
    "- permalink: /ydata_analysis\n",
    "- week: 28"
   ]
  }
 ],
 "metadata": {
  "language_info": {
   "name": "python"
  },
  "orig_nbformat": 4
 },
 "nbformat": 4,
 "nbformat_minor": 2
}
