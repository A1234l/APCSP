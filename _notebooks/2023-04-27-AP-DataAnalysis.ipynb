{
 "cells": [
  {
   "attachments": {},
   "cell_type": "markdown",
   "metadata": {},
   "source": [
    "#  P4-Y 4/27 Data Analysis including Numpy and Pandas\n",
    "> Period 4 Yeung Data Analysis Presentation day April 27\n",
    "\n",
    "- toc: true\n",
    "- badges: false\n",
    "- comments: true\n",
    "- author: Caleb Navarro, Eli Gilmur, Mati Danish, Khalid Farah, AJ Ruiz, Luke Angelini, Jame Armstrong, Shreyas Sarurkar\n",
    "- categories: [student]\n",
    "- type: ap\n",
    "- week: 31"
   ]
  }
 ],
 "metadata": {
  "language_info": {
   "name": "python"
  },
  "orig_nbformat": 4
 },
 "nbformat": 4,
 "nbformat_minor": 2
}
