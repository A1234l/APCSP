{
 "cells": [
  {
   "attachments": {},
   "cell_type": "markdown",
   "metadata": {},
   "source": [
    "# P3 4/27 Big Idea 3 Data Structures\n",
    "> Big Idea 3 with Databases and Data Operations\n",
    "- toc: true\n",
    "- badges: false\n",
    "- comments: true\n",
    "- author: Alex, David, Kaiden, Ethan T.,Ethan Z., Navan, Nikhil \n",
    "- categories: [student]\n",
    "- type: ap\n",
    "- week: 31"
   ]
  },
  {
   "attachments": {},
   "cell_type": "markdown",
   "metadata": {},
   "source": [
    "# Big Idea 3 (Data Structures including List, Dictionaries, 2D arrays and Iteration)\n",
    "\n",
    "## Leaderboard Database (Kaiden and Navan)\n",
    "\n",
    "\n",
    "\n",
    "## JWT (Nikhil)\n",
    "\n",
    "\n",
    "\n",
    "## Picture Database (Ethan T.)\n",
    "\n",
    "\n",
    "\n",
    "## Connection of Databases from Frontend to Backend (David and Alex)\n",
    "\n",
    "\n",
    "\n",
    "### Leaderboard (David)\n",
    "\n",
    ">CRUD is an acronym used to describe the processes needed in a functional program. These include being able to create, read, update, and delete data based on the database used. This allows total control over data sets and allows fro total manipulation of the dataset.\n",
    "\n",
    "#### Create\n",
    "\n",
    "![]({{site.baseurl}}/lessonimages/create.png \" \")\n",
    "\n",
    "Parser is used to look through dataset and make sure there are no duplicates and then to make a new data entry.\n",
    "\n",
    "#### Read\n",
    "\n",
    "![]({{site.baseurl}}/lessonimages/read.png \" \")\n",
    "\n",
    "Parser is used in order to look through dataset for all values and send them to frontend.\n",
    "\n",
    "#### Update\n",
    "\n",
    "![]({{site.baseurl}}/lessonimages/update.png \" \")\n",
    "\n",
    "Parser is used to look for specific data value you are searching for and then update another specific value based on that found data fragment.\n",
    "\n",
    "#### Delete\n",
    "\n",
    "![]({{site.baseurl}}/lessonimages/delete.png \" \")\n",
    "\n",
    "Parser is used to look for specific data value you are searching for and then delete that found data fragment.\n",
    "\n",
    "### Picture (Alex)\n",
    "\n",
    "\n",
    "\n",
    "## Time and Space Complexity of Algorithms (Ethan Z)\n",
    "\n"
   ]
  }
 ],
 "metadata": {
  "language_info": {
   "name": "python"
  },
  "orig_nbformat": 4
 },
 "nbformat": 4,
 "nbformat_minor": 2
}
