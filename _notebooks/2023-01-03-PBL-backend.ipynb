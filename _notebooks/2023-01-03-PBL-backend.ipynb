{
 "cells": [
  {
   "cell_type": "markdown",
   "metadata": {},
   "source": [
    "# Python backend, databases and object oriented programming\n",
    "> The project based learning objective is to create a purposeful backend, something that can't be done in frontend JavaScript.  A  database storing persistent data are a primary focus of most backend systems.  An SQLite Database using the Python SQLAlchemy framework is is the outcome of this lesson.  As students learn databases using SQLAlchemy, they will also learn about Object Oriented Programming in Python.\n",
    "\n",
    "- title: Python backend\n",
    "- toc: true\n",
    "- categories: []\n",
    "- image: /images/python.png\n",
    "- type: pbl\n",
    "- week: 17"
   ]
  },
  {
   "cell_type": "markdown",
   "metadata": {},
   "source": [
    "## Class and Object Terms\n",
    "> The foundations of Object-Oriented Programming is a Class  \n",
    "* A Class has a collection of data (ie variables)\n",
    "* A Class has collection of Functions/Procedures.  These are called ***Methods** when they exist inside a Class definition.\n",
    "* In Object-Oriented Programming (OOP), a class is a blueprint for creating an ***Object*** (a data structure).  An Object is used like many other Python variables."
   ]
  },
  {
   "cell_type": "code",
   "execution_count": null,
   "metadata": {},
   "outputs": [],
   "source": [
    "# Define a User Class/Template\n",
    "# -- A User represents the data we want to manage\n",
    "class User:\n",
    "    \n",
    "    # constructor of a User object, initializes the instance variables within object (self)\n",
    "    def __init__(self, name, email, password):\n",
    "        self._name = name    # variables with self prefix become part of the object, \n",
    "        self._email = email\n",
    "        self.set_password(password)\n",
    "\n",
    "    # a name getter method, extracts name from object\n",
    "    @property\n",
    "    def name(self):\n",
    "        return self._name\n",
    "    \n",
    "    # a setter function, allows name to be updated after initial object creation\n",
    "    @name.setter\n",
    "    def name(self, name):\n",
    "        self._name = name\n",
    "    \n",
    "    # a getter method, extracts email from object\n",
    "    @property\n",
    "    def email(self):\n",
    "        return self._email\n",
    "    \n",
    "    # a setter function, allows name to be updated after initial object creation\n",
    "    @email.setter\n",
    "    def email(self, email):\n",
    "        self._email = email\n",
    "        \n",
    "    # check if email matches email in object\n",
    "    def is_email_match(self, email):\n",
    "        return self._email == email\n",
    "\n",
    "    # password needs to be encrypted when stored\n",
    "    def set_password(self, password):\n",
    "        \"\"\"Create hashed password.\"\"\"\n",
    "        # self.password = generate_password_hash(password, method='sha256')\n",
    "        self.password = password\n",
    "\n",
    "    # check password versus stored/encrypted password\n",
    "    def is_password_match(self, password):\n",
    "        \"\"\"Check hashed password.\"\"\"\n",
    "        # result = check_password_hash(self.password, password)\n",
    "        result = self.password == password\n",
    "        return result\n",
    "\n",
    "# tester method to print users\n",
    "def tester(users):\n",
    "    for user in users:\n",
    "        if user.email == \"agbell@att.com\" and user.is_password_match(\"123lex\"):  # check for match\n",
    "            print(\"* \", end=\"\")\n",
    "        print(user.email + \": \" + user.name) # observe simple extraction of data from object\n",
    "        \n",
    "# define user objects\n",
    "u1 = User(name='Thomas Edison', email='tedison@ge.com', password='123toby')\n",
    "u2 = User(name='Nicholas Tesla', email='ntesla@twitter.com', password='123nick')\n",
    "u3 = User(name='Alexander Graham Bell', email='agbell@att.com', password='123lex')\n",
    "u4 = User(name='Eli Whitney', email='eliw@farmers.com', password='123eli')\n",
    "u5 = User(name='Hedy Lemarr', email='hedy@wifi.com', password='123hedy')\n",
    "\n",
    "# put user objects in list for convenience\n",
    "users = [u1, u2, u3, u4, u5]\n",
    "\n",
    "# Print original list\n",
    "print(\"Test 1\")\n",
    "tester(users)\n",
    "\n",
    "# Change user 3 in list\n",
    "print(\"Test 2\")\n",
    "u3.name = \"John Mortensen\"\n",
    "u3.email = \"jmort1021@gmail.com\"\n",
    "u3.set_password(\"123qwerty\")\n",
    "tester(users)\n"
   ]
  },
  {
   "cell_type": "markdown",
   "metadata": {},
   "source": [
    "## Database and Table Terms\n",
    "> The foundations of database is defining one or more ***Tables***.  In Python, a database can be constructed using the foundation we just learned with a class.\n",
    "* A \"Table\" is a Data Model/Structure within a Database.  \n",
    "* A \"Table\" definition in Python/SQLAlchemy is manifested by defining a \"***Class***\" in Python.  \n",
    "* A ***Class can inherit code and functionality*** of from other packages.  This is how developers turn a Class into a Table within a database.\n",
    "* Writing methods in the Class for Create, Read, Update, Delete (***CRUD***) is how we initiate database operations."
   ]
  },
  {
   "cell_type": "markdown",
   "metadata": {},
   "source": [
    "Review this code to understand concepts so far...\n",
    "1. Model Defining the [Table](https://github.com/nighthawkcoders/nighthawk_csp/blob/master/crud/model.py#L25) Class\n",
    "2. Model [Testing and Initial Setup](https://github.com/nighthawkcoders/nighthawk_csp/blob/master/crud/model.py#L84)\n",
    "3. Model Defining function to support [CRUD operations](https://github.com/nighthawkcoders/nighthawk_csp/blob/master/crud/model.py#L40-L81) \n",
    "4. Control Methods for [Create](https://github.com/nighthawkcoders/nighthawk_csp/blob/master/crud/app_crud.py#L63-L113), [Read](https://github.com/nighthawkcoders/nighthawk_csp/blob/master/crud/app_crud.py#L63-L113), [Update](https://github.com/nighthawkcoders/nighthawk_csp/blob/master/crud/app_crud.py#L63-L113), [Delete](https://github.com/nighthawkcoders/nighthawk_csp/blob/master/crud/app_crud.py#L63-L113) or Alternative [CRUD API definitions ](https://github.com/nighthawkcoders/nighthawk_csp/blob/master/crud/app_crud.py#L138-L189)\n",
    "5. View Here is a [runtime](https://csp.nighthawkcodingsociety.com/crud/) showing off some CRUD. All the MVC code is show at the bottom of this page.\n",
    "\n",
    "To get started with databases, perhaps you can simply try to get some Database Code running in your project.  Then you could try to define a new Table in you database.  After pulling code, you will need to Init your database and table by running the [Tester Method](https://github.com/nighthawkcoders/nighthawk_csp/blob/master/crud/model.py#L121).\n",
    "\n",
    "[Flask SQLAlchemy reference](https://flask-sqlalchemy.palletsprojects.com/en/2.x/#user-guide)"
   ]
  },
  {
   "cell_type": "markdown",
   "metadata": {},
   "source": [
    "## Reference\n",
    "- [SQLAlchemy](https://www.sqlalchemy.org/)\n",
    "- [Python Backend with Flask, SQLite](https://www.ffnext.io/blog/python-backend-with-flask-for-beginners#:~:text=You%20can%20create%20an%20HTTP,command%3A%20python%20app.py.)\n",
    "- [Backend API and Flask](https://www.ffnext.io/blog/python-backend-with-flask-for-beginners#:~:text=You%20can%20create%20an%20HTTP,command%3A%20python%20app.py.)"
   ]
  },
  {
   "cell_type": "markdown",
   "metadata": {},
   "source": []
  }
 ],
 "metadata": {
  "kernelspec": {
   "display_name": "Python 3.9.12 ('base')",
   "language": "python",
   "name": "python3"
  },
  "language_info": {
   "codemirror_mode": {
    "name": "ipython",
    "version": 3
   },
   "file_extension": ".py",
   "mimetype": "text/x-python",
   "name": "python",
   "nbconvert_exporter": "python",
   "pygments_lexer": "ipython3",
   "version": "3.9.12"
  },
  "orig_nbformat": 4,
  "vscode": {
   "interpreter": {
    "hash": "8b82d5009c68ba5675978267e2b13a671f2a7143d61273c5a3813c97e0b2493d"
   }
  }
 },
 "nbformat": 4,
 "nbformat_minor": 2
}
