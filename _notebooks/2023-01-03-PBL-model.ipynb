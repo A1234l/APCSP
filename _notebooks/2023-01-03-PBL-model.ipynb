{
 "cells": [
  {
   "cell_type": "markdown",
   "metadata": {},
   "source": [
    "# Model, Python, Backend, Object-Oriented Programming\n",
    "> Object Oriented Programming is very common in Python.  The objective of this blog is to introduce OOP with the intention of using it as a Model to create a database.  The foundations for a database is defining a Class and understanding instance data and methods.\n",
    "\n",
    "- title: Model, Python, Backend, OOP\n",
    "- toc: true\n",
    "- categories: []\n",
    "- image: /images/python.png\n",
    "- type: pbl\n",
    "- week: 17"
   ]
  },
  {
   "cell_type": "markdown",
   "metadata": {},
   "source": [
    "## Class and Object Terms\n",
    "> The foundations of Object-Oriented Programming is a ***Class***  \n",
    "* In Object-Oriented Programming (OOP), a class is a blueprint for creating an ***Object***. (a data structure).  An Object is used like many other Python variables.\n",
    "* A Class has ...\n",
    "    * a collection of data, these are called ***Attributes*** and in Python are pre-fixed using the keyword ***self***\n",
    "    * a collection of Functions/Procedures.  These are called ***Methods** when they exist inside a Class definition.\n",
    "* An Object is created from the Class/Template.  Characteristics of objects ...\n",
    "   * an Object is an ***Instance*** of the Class/Template\n",
    "   * there can be many Objects created from the same Class\n",
    "   * each Object contains its own ***Instance Data***\n",
    "   * the data is setup by the ***Constructor***, this is the \"__init__\" method in a Python class\n",
    "   * all methods in the Class/Template become part of the Object, methods are accessed using ***dot notation*** (object.method())\n",
    "* A Python Class allow for the definition of @ decorators, these allow access to instance data without the use of functions ...\n",
    "    * @property decorator (aka getter).  This enables developers to reference/get instance data in a shorthand fashion (object.name versus object.get_name())\n",
    "    * @name.setter decorator (aka setter).  This enables developers to update/set instance data in a shorthand fashion (object.name = \"John\" versus object.set_name(\"John\"))\n",
    "    * observe all instance data (self._name, self._email ...) are prefixed with \"_\", this convention allows setters and getters to work with more natural variable name (name, email ...)"
   ]
  },
  {
   "cell_type": "markdown",
   "metadata": {},
   "source": [
    "## Class and Object Code"
   ]
  },
  {
   "cell_type": "code",
   "execution_count": 17,
   "metadata": {},
   "outputs": [
    {
     "name": "stdout",
     "output_type": "stream",
     "text": [
      "Test 1, find user 3\n",
      "name: \"Thomas Edison\", id: \"toby\", psw: \"sha256$PZM...\"\n",
      "name: \"Nicholas Tesla\", id: \"nick\", psw: \"sha256$blj...\"\n",
      "* name: \"Alexander Graham Bell\", id: \"lex\", psw: \"sha256$l3I...\"\n",
      "name: \"Eli Whitney\", id: \"eli\", psw: \"sha256$g1r...\"\n",
      "name: \"Hedy Lemarr\", id: \"hedy\", psw: \"sha256$ag7...\"\n",
      "found: name: \"Alexander Graham Bell\", id: \"lex\", psw: \"sha256$l3I...\"\n",
      "Test 2, change user 3\n",
      "name: \"Thomas Edison\", id: \"toby\", psw: \"sha256$PZM...\"\n",
      "name: \"Nicholas Tesla\", id: \"nick\", psw: \"sha256$blj...\"\n",
      "* name: \"John Mortensen\", id: \"jm1021\", psw: \"sha256$u0z...\"\n",
      "name: \"Eli Whitney\", id: \"eli\", psw: \"sha256$g1r...\"\n",
      "name: \"Hedy Lemarr\", id: \"hedy\", psw: \"sha256$ag7...\"\n",
      "changed: name: \"John Mortensen\", id: \"jm1021\", psw: \"sha256$u0z...\"\n",
      "Test 3, make a dictionary\n",
      "[{\"_name\": \"Thomas Edison\", \"_uid\": \"toby\", \"_password\": \"sha256$PZMflf9ooWWgDSed$218b9e5726013138a4be04788b470b3e02a002b59e8e040dda0ec3775cffa6ca\"}, {\"_name\": \"Nicholas Tesla\", \"_uid\": \"nick\", \"_password\": \"sha256$bljr0U5URNJDAN83$0c13297e4bc6f7dd735b75b9dcac445dbce2bd86ef8ed8c359011286927bb5a9\"}, {\"_name\": \"John Mortensen\", \"_uid\": \"jm1021\", \"_password\": \"sha256$u0z6OM5K8mwp1pCp$c5378f0bfeecd7b4de4da9f533479c298c8873f6e49c64180dddbc22c309c2b4\"}, {\"_name\": \"Eli Whitney\", \"_uid\": \"eli\", \"_password\": \"sha256$g1r4DTQdceGtq6mZ$fbce63578e300d9ffbff2de09ee86898bbf599df8ba2b054d2d1de5362d4aba7\"}, {\"_name\": \"Hedy Lemarr\", \"_uid\": \"hedy\", \"_password\": \"sha256$ag7ifBWxDCjbvjJT$ad6dc0b7f2da23547ded352feab347284c81392b11bc569a69da7943866b02dd\"}]\n"
     ]
    }
   ],
   "source": [
    "# Werkzeug is a collection of libraries that can be used to create a WSGI (Web Server Gateway Interface)\n",
    "# A gateway in necessary as a web server cannot communicate directly with Python.\n",
    "# In this case, imports are focused on generating hash code to protect passwords.\n",
    "from werkzeug.security import generate_password_hash, check_password_hash\n",
    "import json\n",
    "\n",
    "# Define a User Class/Template\n",
    "# -- A User represents the data we want to manage\n",
    "class User:\n",
    "    \n",
    "    # constructor of a User object, initializes the instance variables within object (self)\n",
    "    def __init__(self, name, uid, password):\n",
    "        self._name = name    # variables with self prefix become part of the object, \n",
    "        self._uid = uid\n",
    "        self.set_password(password)\n",
    "\n",
    "    # a name getter method, extracts name from object\n",
    "    @property\n",
    "    def name(self):\n",
    "        return self._name\n",
    "    \n",
    "    # a setter function, allows name to be updated after initial object creation\n",
    "    @name.setter\n",
    "    def name(self, name):\n",
    "        self._name = name\n",
    "    \n",
    "    # a getter method, extracts email from object\n",
    "    @property\n",
    "    def uid(self):\n",
    "        return self._uid\n",
    "    \n",
    "    # a setter function, allows name to be updated after initial object creation\n",
    "    @uid.setter\n",
    "    def uid(self, uid):\n",
    "        self._uid = uid\n",
    "        \n",
    "    # check if uid parameter matches user id in object, return boolean\n",
    "    def is_uid(self, uid):\n",
    "        return self._uid == uid\n",
    "    \n",
    "    @property\n",
    "    def password(self):\n",
    "        return self._password[0:10] + \"...\" # because of security only show 1st characters\n",
    "\n",
    "    # update password, this is conventional setter\n",
    "    def set_password(self, password):\n",
    "        \"\"\"Create a hashed password.\"\"\"\n",
    "        self._password = generate_password_hash(password, method='sha256')\n",
    "\n",
    "    # check password parameter versus stored/encrypted password\n",
    "    def is_password(self, password):\n",
    "        \"\"\"Check against hashed password.\"\"\"\n",
    "        result = check_password_hash(self._password, password)\n",
    "        return result\n",
    "    \n",
    "    # output content using str(object) in human readable form, uses getter\n",
    "    def __str__(self):\n",
    "        return f'name: \"{self.name}\", id: \"{self.uid}\", psw: \"{self.password}\"'\n",
    "\n",
    "    # output command to recreate the object, uses attribute directly\n",
    "    def __repr__(self):\n",
    "        return f'Person(name={self._name}, uid={self._uid}, password={self._password})'\n",
    "\n",
    "\n",
    "# tester method to print users\n",
    "def tester(users, uid, psw):\n",
    "    result = None\n",
    "    for user in users:\n",
    "        # test for match in database\n",
    "        if user.uid == uid and user.is_password(psw):  # check for match\n",
    "            print(\"* \", end=\"\")\n",
    "            result = user\n",
    "        # print using __str__ method\n",
    "        print(str(user))\n",
    "    return result\n",
    "        \n",
    "        \n",
    "# define user objects\n",
    "u1 = User(name='Thomas Edison', uid='toby', password='123toby')\n",
    "u2 = User(name='Nicholas Tesla', uid='nick', password='123nick')\n",
    "u3 = User(name='Alexander Graham Bell', uid='lex', password='123lex')\n",
    "u4 = User(name='Eli Whitney', uid='eli', password='123eli')\n",
    "u5 = User(name='Hedy Lemarr', uid='hedy', password='123hedy')\n",
    "\n",
    "# put user objects in list for convenience\n",
    "users = [u1, u2, u3, u4, u5]\n",
    "\n",
    "# Find user in list\n",
    "print(\"Test 1, find user 3\")\n",
    "u = tester(users, u3.uid, \"123lex\")\n",
    "\n",
    "# Change user found in list\n",
    "print(\"Test 2, change user 3\")\n",
    "u.name = \"John Mortensen\"\n",
    "u.uid = \"jm1021\"\n",
    "u.set_password(\"123qwerty\")\n",
    "u = tester(users, u.uid, \"123qwerty\")\n",
    "\n",
    "\n",
    "# Make dictionary\n",
    "''' \n",
    "The __dict__ in Python represents a dictionary or any mapping object that is used to store the attributes of the object. \n",
    "Every object in Python has an attribute that is denoted by __dict__. \n",
    "Use the json.dumps() method to convert the list of Users to a JSON string.\n",
    "'''\n",
    "print(\"Test 3, make a dictionary\")\n",
    "json_string = json.dumps([user.__dict__ for user in users]) \n",
    "print(json_string)\n"
   ]
  },
  {
   "cell_type": "markdown",
   "metadata": {},
   "source": [
    "## Hacks\n",
    "> Add new attributes/variables to the Class.\n",
    "- Add classOf attribute to define year of graduation\n",
    "    - Add setter and getter for classOf\n",
    "- Add dob attribute to define date of birth\n",
    "    - This will require investigation into Python datetime objects as shown in example code below\n",
    "    - Add setter and getter for dob\n",
    "- Add instance variable for age, make sure if dob changes age changes\n",
    "    - Add getter for age, but don't add/allow setter for age\n",
    "- Update and format tester function to "
   ]
  },
  {
   "cell_type": "markdown",
   "metadata": {},
   "source": [
    "## Start Code for Hacks"
   ]
  },
  {
   "cell_type": "code",
   "execution_count": 3,
   "metadata": {},
   "outputs": [
    {
     "name": "stdout",
     "output_type": "stream",
     "text": [
      "17\n"
     ]
    }
   ],
   "source": [
    "from datetime import date\n",
    "\n",
    "def calculate_age(born):\n",
    "    today = date.today()\n",
    "    return today.year - born.year - ((today.month, today.day) < (born.month, born.day))\n",
    "\n",
    "dob = date(2004, 12, 31)\n",
    "age = calculate_age(dob)\n",
    "print(age)"
   ]
  },
  {
   "cell_type": "markdown",
   "metadata": {},
   "source": []
  }
 ],
 "metadata": {
  "kernelspec": {
   "display_name": "Python 3.9.12 ('base')",
   "language": "python",
   "name": "python3"
  },
  "language_info": {
   "codemirror_mode": {
    "name": "ipython",
    "version": 3
   },
   "file_extension": ".py",
   "mimetype": "text/x-python",
   "name": "python",
   "nbconvert_exporter": "python",
   "pygments_lexer": "ipython3",
   "version": "3.9.12"
  },
  "orig_nbformat": 4,
  "vscode": {
   "interpreter": {
    "hash": "8b82d5009c68ba5675978267e2b13a671f2a7143d61273c5a3813c97e0b2493d"
   }
  }
 },
 "nbformat": 4,
 "nbformat_minor": 2
}
