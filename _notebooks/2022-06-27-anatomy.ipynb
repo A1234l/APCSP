{
 "cells": [
  {
   "cell_type": "markdown",
   "metadata": {},
   "source": [
    "# TPT Unit 00 - Anatomy of Python\n",
    "A progressive journey through Java's anatomy using the classic Hello, World example.\n",
    "\n",
    "- title: Anatomy of Java\n",
    "- toc: true\n",
    "- categories: [units]"
   ]
  },
  {
   "cell_type": "markdown",
   "metadata": {},
   "source": [
    "## Hello, World!\n",
    "These examples show the basic language structures and constructs of Python using print and input commands (aka anatomy)."
   ]
  },
  {
   "cell_type": "markdown",
   "metadata": {},
   "source": [
    "### Static print command and output\n",
    "The classic introduction to a programming language is to output a \"Hello, World!\" message.  In Python, this is a print statement.   \n",
    "- The <mark>command or function</mark> is print()\n",
    "- \"Hello, World\" is a <String literal. This is the referred to as <mark>Static text</mark>, as it does not change.\n",
    "- \"Hello, World\" is a parameter to the print command.\n",
    "- The <mark>print command outputs</mark> the parameter to the terminal, as you see it in this Jupyter document "
   ]
  },
  {
   "cell_type": "code",
   "execution_count": 1,
   "metadata": {},
   "outputs": [
    {
     "name": "stdout",
     "output_type": "stream",
     "text": [
      "Hello World!\n"
     ]
    }
   ],
   "source": [
    "print(\"Hello World!\")"
   ]
  },
  {
   "cell_type": "markdown",
   "metadata": {},
   "source": [
    "### Dynamic example showing variables, input and output\n",
    "This second example is a <mark>sequence of code</mark>, two or more lines forms a sequence.  This example takes input from the user and stores the input into a variable called msg (short for message), then outputs the msg to terminal.  - This example is <mark>Dynamic as the input and output can change</mark> each time the code is run.\n",
    "- A variable \"msg\" is part of both statement \n",
    "    - The variable \"msg\" is used to capture the input command\n",
    "    - The variable \"msg\" is then used as a <mark>parameter to print command</mark>, causing input to be <mark>output to terminal</mark>\n",
    "- The \"input\" command activates the jupyter notebook input box, which obtains <mark>input from the user</mark> (try it!)\n",
    "    - the \"msg\" variable is the dynamic result of the input command\n",
    "- The print command outputs the \"msg\" variable captured in the input statement\n",
    "    - note, msg is a <mark>parameter to the print function</mark>  "
   ]
  },
  {
   "cell_type": "code",
   "execution_count": 5,
   "metadata": {},
   "outputs": [
    {
     "name": "stdout",
     "output_type": "stream",
     "text": [
      "see you later\n"
     ]
    }
   ],
   "source": [
    "msg = input(\"Enter a greeting: \")\n",
    "print(msg)"
   ]
  },
  {
   "cell_type": "markdown",
   "metadata": {},
   "source": [
    "### Dynamic Example with two constructors\n",
    "This last example adds to the basics of the Python anatomy, a function. \n",
    "- The \"def input_and_response(prompt)\" now contains two commands (print and input) learned previously.\n",
    "- Grouping a sequence of commands, often used repeatedly, is called <mark>procedural abstraction</mark>.\n",
    "- Procedure, Function, def are all synonyms in the Python language. \n",
    "- The <mark>\"def\" is a key word in Python that defines a function</mark>.    \n",
    "- The name of the function in this example is \"input_and_response\".\n",
    "- The <mark>function takes a parameter</mark> called \"prompt\", which is message presented to the user to describe input \n",
    "- In jupyter notebooks it is best to print (output the prompt) so it is visible to the user.\n",
    "- The three input_and_response commands in this example allow the same code to be run multiple times, each providing a unique message."
   ]
  },
  {
   "cell_type": "code",
   "execution_count": 7,
   "metadata": {},
   "outputs": [
    {
     "name": "stdout",
     "output_type": "stream",
     "text": [
      "Name an output command mentioned in this lesson?\n",
      "print\n",
      "If you see an ordered list of commands, what would you call it?\n",
      "sequence\n",
      "Describe a keyword used in Python to define a function?\n",
      "def\n"
     ]
    }
   ],
   "source": [
    "def input_and_response(prompt):\n",
    "    print(prompt)\n",
    "    msg = input()\n",
    "    print(msg)\n",
    "\n",
    "input_and_response(\"Name an output command mentioned in this lesson?\")\n",
    "input_and_response(\"If you see an ordered list of commands, what would you call it?\")\n",
    "input_and_response(\"Describe a keyword used in Python to define a function?\")"
   ]
  },
  {
   "cell_type": "markdown",
   "metadata": {},
   "source": [
    "## Hacks\n",
    "Build your own Jupyter Notebook meeting these College Board and CTE competencies\n",
    "- Explain Anatomy of Python using numbers and calculations, versus strings and questions\n",
    "- Structure your Anatomy with comments in code, versus bullets in markdown\n",
    "\n",
    "\n",
    "Additional requirements\n",
    "- Add a Vocabulary section to your Jupyter document"
   ]
  }
 ],
 "metadata": {
  "interpreter": {
   "hash": "aee8b7b246df8f9039afb4144a1f6fd8d2ca17a180786b69acc140d282b71a49"
  },
  "kernelspec": {
   "display_name": "Python 3.9.0 64-bit",
   "language": "python",
   "name": "python3"
  },
  "language_info": {
   "codemirror_mode": {
    "name": "ipython",
    "version": 3
   },
   "file_extension": ".py",
   "mimetype": "text/x-python",
   "name": "python",
   "nbconvert_exporter": "python",
   "pygments_lexer": "ipython3",
   "version": "3.9.0"
  },
  "orig_nbformat": 4
 },
 "nbformat": 4,
 "nbformat_minor": 2
}
