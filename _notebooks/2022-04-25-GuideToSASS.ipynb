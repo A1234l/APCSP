{
 "cells": [
  {
   "attachments": {},
   "cell_type": "markdown",
   "metadata": {},
   "source": [
    "# Guide to SASS \n",
    "> An guide on how to use SASS to build a more customized frontend.\n",
    "- title: Guide to SASS\n",
    "- toc: true\n",
    "- comments: true\n",
    "- permalink: /sassguide\n",
    "- tags: []\n",
    "- week: 2"
   ]
  }
 ],
 "metadata": {
  "language_info": {
   "name": "python"
  },
  "orig_nbformat": 4
 },
 "nbformat": 4,
 "nbformat_minor": 2
}
