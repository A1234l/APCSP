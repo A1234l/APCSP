{
 "cells": [
  {
   "attachments": {},
   "cell_type": "markdown",
   "metadata": {},
   "source": [
    "# P4-M 4/24 Big Idea 3\n",
    "> Lesson about Big Idea 3\n",
    "author: Finn, Edwin, Zeen, Gene, James, Kush, Luka\n",
    "toc: true\n",
    "comments: true\n",
    "week: 31\n",
    "type: ap\n",
    "categories: [student]\n",
    "layout: base"
   ]
  },
  {
   "attachments": {},
   "cell_type": "markdown",
   "metadata": {},
   "source": [
    "## Objectives\n",
    "- Master the concepts of iteration, list, 2d-arrays, Dictonaries, and APIs"
   ]
  },
  {
   "attachments": {},
   "cell_type": "markdown",
   "metadata": {},
   "source": [
    "## Vocab\n",
    "- **Iteration**: A process that repates itself\n",
    "- **Array**: Sometimes called a list, can keep strings and intergers inside it\n",
    "- **Mutable**:  the ability to be changed or modified \n",
    "- **Inseration**: Inserting a new value into a Dictionary\n",
    "- **Deletion**: Deleting a value inside of a Dictionary\n",
    "- **Key**: A Singular identifier that is associated with a certin value inside a Dictionary\n",
    "- **API**: Application programming interface, an external program that can be accessed for data"
   ]
  },
  {
   "attachments": {},
   "cell_type": "markdown",
   "metadata": {},
   "source": [
    "## Q1: 2D Array Manipulation\n",
    "> Pizza API: Kush Sirohi\n",
    "\n",
    "- What are some examples of 2d Arrays\n",
    "- \n",
    "- What is a modern day game that could be classified as a 2D array\n",
    "- "
   ]
  },
  {
   "cell_type": "code",
   "execution_count": null,
   "metadata": {},
   "outputs": [],
   "source": [
    "## Show basic CRUD METHODS, and code about the project\n",
    "\n"
   ]
  },
  {
   "cell_type": "code",
   "execution_count": null,
   "metadata": {
    "vscode": {
     "languageId": "javascript"
    }
   },
   "outputs": [],
   "source": [
    "// Show how the POST DELETE UPDATE READ with javascript"
   ]
  },
  {
   "attachments": {},
   "cell_type": "markdown",
   "metadata": {},
   "source": [
    "## Q2: Iteration\n",
    "> Robot Game: Finn Carpenter\n",
    "- What is the defenition of iteration in your own words\n",
    "- "
   ]
  },
  {
   "cell_type": "code",
   "execution_count": 10,
   "metadata": {},
   "outputs": [
    {
     "name": "stdout",
     "output_type": "stream",
     "text": [
      "hi\n",
      "hi\n",
      "hi\n",
      "hi\n",
      "hi\n",
      "hello\n",
      "hello\n",
      "hello\n",
      "hello\n",
      "hello\n",
      "hello\n",
      "1\n",
      "2\n",
      "3\n",
      "4\n",
      "5\n"
     ]
    }
   ],
   "source": [
    "### Different methods of iteration\n",
    "\n",
    "times = 0\n",
    "numbers = [1, 2, 3, 4, 5]\n",
    "\n",
    "## Loops\n",
    "for i in range(5):\n",
    "    print(\"hi\")\n",
    "\n",
    "\n",
    "while times <= 5:\n",
    "    print(\"hello\")\n",
    "    times = times + 1\n",
    "\n",
    "## Function with a parameters\n",
    "def print_numbers(x):\n",
    "    for num in x:\n",
    "        print(num)\n",
    "\n",
    "print_numbers(numbers)\n",
    "\n"
   ]
  },
  {
   "attachments": {},
   "cell_type": "markdown",
   "metadata": {},
   "source": [
    "## Iteration Game\n",
    "- [Link to the game](https://f1nnc.github.io/Playground/robot)\n",
    "- Play the levels (only play the first 3 in class)\n",
    "- Explain how the game relates to itertation\n",
    "- "
   ]
  },
  {
   "attachments": {},
   "cell_type": "markdown",
   "metadata": {},
   "source": [
    "## Q3: List and Dictonaries\n",
    "> Edwin\n",
    "- Unscramble Game\n",
    "- Question\n"
   ]
  },
  {
   "cell_type": "code",
   "execution_count": null,
   "metadata": {},
   "outputs": [],
   "source": [
    "# Explain Code behined scramble"
   ]
  },
  {
   "cell_type": "code",
   "execution_count": null,
   "metadata": {
    "vscode": {
     "languageId": "javascript"
    }
   },
   "outputs": [],
   "source": [
    "// Some frontend Javascript about the code too"
   ]
  },
  {
   "attachments": {},
   "cell_type": "markdown",
   "metadata": {},
   "source": [
    "# Hacks\n",
    "\n",
    "\n",
    "## General 0.3\n",
    "- Answer all questions\n",
    "\n",
    "## Iteration 0.2\n",
    "- Get to level 5\n",
    "- Create a small game with iteration\n",
    "\n",
    "## 2D array 0.2\n",
    "- Create your own database with a topic (can be one database for the group)\n",
    "    - All CRUD methods\n",
    "    - explain how it shows 2D Arrays\n",
    "    - Extra points are aviable if you make something cool\n",
    "\n",
    "## List and Dictonaries 0.2\n",
    "-  Make your game example with list and dictonaires\n",
    "    - Extra points are aviable if you make something cool"
   ]
  }
 ],
 "metadata": {
  "kernelspec": {
   "display_name": "base",
   "language": "python",
   "name": "python3"
  },
  "language_info": {
   "codemirror_mode": {
    "name": "ipython",
    "version": 3
   },
   "file_extension": ".py",
   "mimetype": "text/x-python",
   "name": "python",
   "nbconvert_exporter": "python",
   "pygments_lexer": "ipython3",
   "version": "3.9.12"
  },
  "orig_nbformat": 4
 },
 "nbformat": 4,
 "nbformat_minor": 2
}
