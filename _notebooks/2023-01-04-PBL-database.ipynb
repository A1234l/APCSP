{
 "cells": [
  {
   "cell_type": "markdown",
   "metadata": {},
   "source": [
    "# Python Backend: Database and Object-oriented programming\n",
    "> The project-based learning objective is to create a purposeful backend, something that can't be done in frontend JavaScript.  A database storing persistent data is a primary focus of a backend systems.  An SQLite Database using the Python SQLAlchemy framework is is the outcome of this lesson.  As students learn databases using SQLAlchemy, they will also continue to learn about Object-oriented programming in Python.\n",
    "\n",
    "- title: Python Backend - Database\n",
    "- toc: true\n",
    "- categories: []\n",
    "- image: /images/python.png\n",
    "- type: pbl\n",
    "- week: 17"
   ]
  },
  {
   "cell_type": "markdown",
   "metadata": {},
   "source": [
    "## Database and Table Terms\n",
    "> The foundations of database is defining one or more ***Tables***.  In Python, a database can be constructed using the foundation we just learned with a class.\n",
    "* A \"Table\" is a Data Model/Structure within a Database.  \n",
    "* A \"Table\" definition in Python/SQLAlchemy is manifested by defining a \"***Class***\" in Python.  \n",
    "* A ***Class can inherit code and functionality*** of from other packages.  This is how developers turn a Class into a Table within a database.\n",
    "* Writing methods in the Class for Create, Read, Update, Delete (***CRUD***) is how we initiate database operations."
   ]
  },
  {
   "cell_type": "markdown",
   "metadata": {},
   "source": [
    "Review this code to understand concepts so far...\n",
    "1. Model Defining the [Table](https://github.com/nighthawkcoders/nighthawk_csp/blob/master/crud/model.py#L25) Class\n",
    "2. Model [Testing and Initial Setup](https://github.com/nighthawkcoders/nighthawk_csp/blob/master/crud/model.py#L84)\n",
    "3. Model Defining function to support [CRUD operations](https://github.com/nighthawkcoders/nighthawk_csp/blob/master/crud/model.py#L40-L81) \n",
    "4. Control Methods for [Create](https://github.com/nighthawkcoders/nighthawk_csp/blob/master/crud/app_crud.py#L63-L113), [Read](https://github.com/nighthawkcoders/nighthawk_csp/blob/master/crud/app_crud.py#L63-L113), [Update](https://github.com/nighthawkcoders/nighthawk_csp/blob/master/crud/app_crud.py#L63-L113), [Delete](https://github.com/nighthawkcoders/nighthawk_csp/blob/master/crud/app_crud.py#L63-L113) or Alternative [CRUD API definitions ](https://github.com/nighthawkcoders/nighthawk_csp/blob/master/crud/app_crud.py#L138-L189)\n",
    "5. View Here is a [runtime](https://csp.nighthawkcodingsociety.com/crud/) showing off some CRUD. All the MVC code is show at the bottom of this page.\n",
    "\n",
    "To get started with databases, perhaps you can simply try to get some Database Code running in your project.  Then you could try to define a new Table in you database.  After pulling code, you will need to Init your database and table by running the [Tester Method](https://github.com/nighthawkcoders/nighthawk_csp/blob/master/crud/model.py#L121).\n",
    "\n",
    "[Flask SQLAlchemy reference](https://flask-sqlalchemy.palletsprojects.com/en/2.x/#user-guide)"
   ]
  },
  {
   "cell_type": "markdown",
   "metadata": {},
   "source": [
    "## Reference\n",
    "- [SQLAlchemy](https://www.sqlalchemy.org/)\n",
    "- [Python Backend with Flask, SQLite](https://www.ffnext.io/blog/python-backend-with-flask-for-beginners#:~:text=You%20can%20create%20an%20HTTP,command%3A%20python%20app.py.)\n",
    "- [Backend API and Flask](https://www.ffnext.io/blog/python-backend-with-flask-for-beginners#:~:text=You%20can%20create%20an%20HTTP,command%3A%20python%20app.py.)"
   ]
  }
 ],
 "metadata": {
  "kernelspec": {
   "display_name": "Python 3.11.0 64-bit",
   "language": "python",
   "name": "python3"
  },
  "language_info": {
   "name": "python",
   "version": "3.11.0"
  },
  "orig_nbformat": 4,
  "vscode": {
   "interpreter": {
    "hash": "1a1af0ee75eeea9e2e1ee996c87e7a2b11a0bebd85af04bb136d915cefc0abce"
   }
  }
 },
 "nbformat": 4,
 "nbformat_minor": 2
}
