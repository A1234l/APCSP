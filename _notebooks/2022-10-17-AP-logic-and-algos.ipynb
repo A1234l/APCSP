{
 "cells": [
  {
   "cell_type": "markdown",
   "metadata": {},
   "source": [
    "#  Algorithms and Logic\n",
    "> A discussion on Logic and Algorithms.  \n",
    "- toc: true\n",
    "- categories: []\n",
    "- type: ap\n",
    "- week: 9"
   ]
  },
  {
   "cell_type": "markdown",
   "metadata": {},
   "source": [
    "## Algorithm\n",
    "> An algorithm typically means 'code' that solves a problem. Designing an algorithm often requires you to consider how you design your code. Code design can take many forms.\n"
   ]
  },
  {
   "cell_type": "markdown",
   "metadata": {},
   "source": [
    "## Truth Tables\n",
    "> Logical expressions are the basis of all selection and iteration statements. The code that follows displays the results of logical operators AND, OR, XOR, NAND, NOR versus binary 1 and 0.   The output produces a 'Truth Table', this is the basis of a logical expression.\n",
    "\n",
    "### Truth Table - Algorithm 1\n",
    "> This algorithm focuses on small reusable procedures/function (def)."
   ]
  },
  {
   "cell_type": "code",
   "execution_count": 7,
   "metadata": {},
   "outputs": [
    {
     "name": "stdout",
     "output_type": "stream",
     "text": [
      "***** Method 1 *****\n",
      "Bitwise &\n",
      "1 & 1 is 1\n",
      "1 & 0 is 0\n",
      "0 & 1 is 0\n",
      "0 & 0 is 0\n",
      "Bitwise NAND\n",
      "NAND(1 & 1) is 0\n",
      "NAND(1 & 0) is 1\n",
      "NAND(0 & 1) is 1\n",
      "NAND(0 & 0) is 1\n",
      "Bitwise |\n",
      "1 | 1 is 1\n",
      "1 | 0 is 1\n",
      "0 | 1 is 1\n",
      "0 | 0 is 0\n",
      "Bitwise NOR\n",
      "NOR(1 | 1) is 0\n",
      "NOR(1 | 0) is 0\n",
      "NOR(0 | 1) is 0\n",
      "NOR(0 | 0) is 1\n",
      "Bitwise ^\n",
      "1 ^ 1 is 0\n",
      "1 ^ 0 is 1\n",
      "0 ^ 1 is 1\n",
      "0 ^ 0 is 0\n"
     ]
    }
   ],
   "source": [
    "import operator  # functions for all comparisons, logical operations, mathematical operations and sequence operations\n",
    "\n",
    "# builds truth table\n",
    "def truth_options():\n",
    "    a_opts = [1, 0]\n",
    "    b_opts = [1, 0]\n",
    "    return [(a, b) for a in a_opts for b in b_opts]  # double for permutes options\n",
    "\n",
    "# provides equivalent function lookup for bitwise using operator functions\n",
    "def bitwise_options(op):\n",
    "    ops = {'&': operator.and_,\n",
    "           '|': operator.or_,\n",
    "           '^': operator.xor}\n",
    "    return ops[op]\n",
    "\n",
    "# control/eval for bitwise operators, selection is based on number of operators\n",
    "def bitwise_eval(op, op2=\"\"):\n",
    "    if op2 == \"\":\n",
    "        op_func = bitwise_options(op)\n",
    "        print(f\"Bitwise {op}\")\n",
    "        for a, b in truth_options():\n",
    "            print(f\"{a} {op} {b} is {op_func(a, b)}\")\n",
    "    else:\n",
    "        op2_func = bitwise_options(op2)\n",
    "        print(f\"Bitwise {op}\")\n",
    "        for a, b in truth_options():\n",
    "            print(f\"{op}({a} {op2} {b}) is {(1, 0)[op2_func(a, b)]}\")  # opposite: index 0 returns 1, index 1 return 0\n",
    "\n",
    "def method1():\n",
    "    bitwise_eval(\"&\")\n",
    "    bitwise_eval(\"NAND\", \"&\")\n",
    "    bitwise_eval(\"|\")\n",
    "    bitwise_eval(\"NOR\", \"|\")\n",
    "    bitwise_eval(\"^\")\n",
    "\n",
    "# bitwise evaluation vs truth table\n",
    "if __name__ == \"__main__\":\n",
    "    print(\"***** Method 1 *****\")\n",
    "    method1()"
   ]
  },
  {
   "cell_type": "markdown",
   "metadata": {},
   "source": [
    "### Truth Table - Algorithm 2\n",
    "> This algorithm focuses on truth table and a linear sequence of loops."
   ]
  },
  {
   "cell_type": "code",
   "execution_count": 8,
   "metadata": {},
   "outputs": [
    {
     "name": "stdout",
     "output_type": "stream",
     "text": [
      "***** Method 2 *****\n",
      "and 1 & 1: 1\n",
      "and 1 & 0: 0\n",
      "and 0 & 1: 0\n",
      "and 0 & 0: 0\n",
      "nand ~(1 & 1): 0\n",
      "nand ~(1 & 0): 1\n",
      "nand ~(0 & 1): 1\n",
      "nand ~(0 & 0): 1\n",
      "or 1 | 1: 1\n",
      "or 1 | 0: 1\n",
      "or 0 | 1: 1\n",
      "or 0 | 0: 0\n",
      "nor ~(1 | 1): 0\n",
      "nor ~(1 | 0): 0\n",
      "nor ~(0 | 1): 0\n",
      "nor ~(0 | 0): 1\n",
      "xor 1 ^ 1: 0\n",
      "xor 1 ^ 0: 1\n",
      "xor 0 ^ 1: 1\n",
      "xor 0 ^ 0: 0\n"
     ]
    }
   ],
   "source": [
    "# each bitwise operator is iterated through truth table \n",
    "def method2():\n",
    "    truth_table = [[1,1], [1,0], [0,1], [0,0]]\n",
    "    for a, b in truth_table:\n",
    "        print(f\"and {a} & {b}: {a & b}\")\n",
    "    for a, b in truth_table:\n",
    "        print(f\"nand ~({a} & {b}): {((a & b) + 1) % 2}\") # warning: ~ negates entire integer\n",
    "    for a, b in truth_table:\n",
    "        print(f\"or {a} | {b}: {a | b}\")\n",
    "    for a, b in truth_table:\n",
    "        print(f\"nor ~({a} | {b}): {((a | b) + 1) % 2}\")  # warning: ~ negates entire integer\n",
    "    for a, b in truth_table:\n",
    "        print(f\"xor {a} ^ {b}: {a ^ b}\")\n",
    "\n",
    "\n",
    "# bitwise evaluation vs truth table\n",
    "if __name__ == \"__main__\":\n",
    "    print(\"***** Method 2 *****\")\n",
    "    method2()"
   ]
  },
  {
   "cell_type": "markdown",
   "metadata": {},
   "source": [
    "### Linear Sequence of code\n",
    "> The order of executions is strictly from top to bottom. This is good for learning, but is typically a poor method for an Algorithm!"
   ]
  },
  {
   "cell_type": "markdown",
   "metadata": {},
   "source": [
    "### Procedure (Function)\n",
    "> A Procedure is a set of code instructions that has been abstracted into logical parts. Each code abstraction is called \"Procedural Abstraction\".  In Python, using procedures (def) means you are starting to write \"good\" code vs \"bad\" code. A procedure performs a defined set of instructions, typically receives input parameters, and returns an output result.  A procedure needs to be activated, or called! A procedure is a great foundation for writing Algorithm!"
   ]
  },
  {
   "cell_type": "markdown",
   "metadata": {},
   "source": [
    "### Class / Object Oriented Programming (OOP)\n",
    "> Variables combined with Procedures form the basis of Object-Oriented Programming. Procedures are called, only after first creating an object. This is a philosophy of thinking about the data and the end result, when designing your code and algorithms. Combining data and procedures together into a class is called \"encapsulation\". This is a advanced way to combine variables and data in meeting the needs of an algorithm. The \"Class\" in Python is the \"encapsulating\" word, everything tabbed inside the \"Class\" word is part of the \"Class\". The procedures (def) are called through the object reference using dot (.) notation.  In Python, you use the dot notation often, when using procedures through import."
   ]
  },
  {
   "cell_type": "markdown",
   "metadata": {},
   "source": [
    "### Hacks \n",
    "> Pick your hack, use something to leverage off of your project need.\n",
    "- Fibonacci\n",
    "- Palindrome\n",
    "- Images"
   ]
  }
 ],
 "metadata": {
  "kernelspec": {
   "display_name": "Python 3.10.6 64-bit",
   "language": "python",
   "name": "python3"
  },
  "language_info": {
   "codemirror_mode": {
    "name": "ipython",
    "version": 3
   },
   "file_extension": ".py",
   "mimetype": "text/x-python",
   "name": "python",
   "nbconvert_exporter": "python",
   "pygments_lexer": "ipython3",
   "version": "3.10.6"
  },
  "orig_nbformat": 4,
  "vscode": {
   "interpreter": {
    "hash": "aee8b7b246df8f9039afb4144a1f6fd8d2ca17a180786b69acc140d282b71a49"
   }
  }
 },
 "nbformat": 4,
 "nbformat_minor": 2
}
