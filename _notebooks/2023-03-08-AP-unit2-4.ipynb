{
 "cells": [
  {
   "attachments": {},
   "cell_type": "markdown",
   "metadata": {},
   "source": [
    "#  Unit 2.4 Using Programs with Data\n",
    "> Creating common algorithms for analyzing data.  Filtering data and focussing on specific attributes is a key part of Data Science or any analysis.\n",
    "- toc: true\n",
    "- image: /images/python.png\n",
    "- categories: []\n",
    "- type: ap\n",
    "- week: 25"
   ]
  },
  {
   "attachments": {},
   "cell_type": "markdown",
   "metadata": {},
   "source": [
    "# More Practice with Data Frames"
   ]
  },
  {
   "cell_type": "code",
   "execution_count": null,
   "metadata": {},
   "outputs": [],
   "source": [
    "'''Pandas can be used to analyze data'''\n",
    "import pandas as pd\n",
    "import requests\n",
    "\n",
    "'''Obtain data from an endpoint'''\n",
    "url = \"https://flask.nighthawkcodingsociety.com/api/covid/\"\n",
    "fetch = requests.get(url)\n",
    "json = fetch.json()\n",
    "\n",
    "# filter data for requirement\n",
    "df = pd.DataFrame(json['countries_stat'])  # filter endpoint for country stats\n",
    "print(df.loc[0:5, 'country_name':'deaths']) # show row 0 through 5 and columns country_name through deaths"
   ]
  },
  {
   "attachments": {},
   "cell_type": "markdown",
   "metadata": {},
   "source": [
    "# Using your own Database\n",
    "> You will now practice using python functions to manipulate your database from your Tri 2 Final Project. If your sqlite.db still includes the users table you can move that into the **files** directory you created in our last lesson. If not, please copy the sqlite.db in the flask_portfolio template in order to run the code below. \n"
   ]
  },
  {
   "attachments": {},
   "cell_type": "markdown",
   "metadata": {},
   "source": [
    "# Importing and Reading Sqlite.db\n",
    "> Uses a read function to display the database in this jupyter notebook"
   ]
  },
  {
   "cell_type": "code",
   "execution_count": null,
   "metadata": {},
   "outputs": [],
   "source": [
    "import sqlite3\n",
    "\n",
    "def read():\n",
    "    # Connect to the database file\n",
    "    conn = sqlite3.connect('files/sqlite.db')\n",
    "\n",
    "    # Create a cursor object to execute SQL queries\n",
    "    cursor = conn.cursor()\n",
    "\n",
    "    # Execute a SELECT statement to retrieve data from a table\n",
    "    cursor.execute('SELECT * FROM users')\n",
    "\n",
    "    # Fetch the results as a list of tuples\n",
    "    results = cursor.fetchall()\n",
    "\n",
    "    # Print the results\n",
    "    for row in results:\n",
    "        print(row)\n",
    "\n",
    "    # Close the database connection\n",
    "    conn.close()\n",
    "    \n",
    "read()\n"
   ]
  },
  {
   "attachments": {},
   "cell_type": "markdown",
   "metadata": {},
   "source": [
    "# Adding to Sqlite.db using Python\n",
    "> Uses a create function to add to the database"
   ]
  },
  {
   "cell_type": "code",
   "execution_count": 7,
   "metadata": {},
   "outputs": [],
   "source": [
    "import sqlite3\n",
    "\n",
    "def create():\n",
    "    # Connect to the database file\n",
    "    conn = sqlite3.connect('files/sqlite.db')\n",
    "\n",
    "    # Create a cursor object to execute SQL commands\n",
    "    cursor = conn.cursor()\n",
    "\n",
    "    # Execute an SQL command to insert data into a table\n",
    "    try:\n",
    "        name = input(\"Enter your name:\")\n",
    "        uid = input(\"Enter your user id:\")\n",
    "        password = input(\"Enter your password\")\n",
    "        dob = input(\"Enter your date of birth 'YYYY-MM-DD'\")\n",
    "        cursor.execute(\"INSERT INTO users (_name, _uid, _password, _dob) VALUES (?, ?, ?, ?)\", (name, uid, password, dob))\n",
    "    except:\n",
    "        print(\"duplicate value entered\")\n",
    "\n",
    "    # Commit the changes to the database\n",
    "    conn.commit()\n",
    "\n",
    "    # Close the connection\n",
    "    conn.close()\n",
    "\n",
    "create()\n"
   ]
  },
  {
   "attachments": {},
   "cell_type": "markdown",
   "metadata": {},
   "source": [
    "# Updating a Sqlite.db using Python\n",
    "> Updates the password of the user with the given id. "
   ]
  },
  {
   "cell_type": "code",
   "execution_count": 8,
   "metadata": {},
   "outputs": [],
   "source": [
    "import sqlite3\n",
    "\n",
    "def update():\n",
    "    # Connect to the database file\n",
    "    conn = sqlite3.connect('files/sqlite.db')\n",
    "\n",
    "    # Create a cursor object to execute SQL commands\n",
    "    cursor = conn.cursor()\n",
    "\n",
    "    # Execute an SQL command to update data in a table\n",
    "    cursor.execute(\"UPDATE users SET _password = ? WHERE id = ?\", ('gothackednewpassword123', 6))\n",
    "\n",
    "    # Commit the changes to the database\n",
    "    conn.commit()\n",
    "\n",
    "    # Close the connection\n",
    "    conn.close()\n",
    "\n",
    "update()\n"
   ]
  },
  {
   "attachments": {},
   "cell_type": "markdown",
   "metadata": {},
   "source": [
    "# Removes from Sqlite.db using Python\n",
    "> Uses a delete function to remove a user based on a user input of the id."
   ]
  },
  {
   "cell_type": "code",
   "execution_count": 19,
   "metadata": {},
   "outputs": [],
   "source": [
    "import sqlite3\n",
    "\n",
    "def delete():\n",
    "    # Connect to the database file\n",
    "    conn = sqlite3.connect('files/sqlite.db')\n",
    "\n",
    "    # Create a cursor object to execute SQL commands\n",
    "    cursor = conn.cursor()\n",
    "\n",
    "    # Execute an SQL command to delete data from a table\n",
    "    to_delete = input(\"Enter id to delete\")\n",
    "    cursor.execute(\"DELETE FROM users WHERE id = ?\", (to_delete))\n",
    "\n",
    "    # Commit the changes to the database\n",
    "    conn.commit()\n",
    "\n",
    "    # Close the connection\n",
    "    conn.close()\n",
    "\n",
    "delete()\n"
   ]
  },
  {
   "attachments": {},
   "cell_type": "markdown",
   "metadata": {},
   "source": [
    "# User Interface\n",
    "> CRUD in a jupyter notebook"
   ]
  },
  {
   "cell_type": "code",
   "execution_count": null,
   "metadata": {},
   "outputs": [],
   "source": [
    "operation = input(\"Enter an operation: (C)reate (R)ead (U)pdate or (D)elete:\")\n",
    "if operation.lower() == 'c':\n",
    "    create()\n",
    "elif operation.lower() == 'r':\n",
    "    read()\n",
    "elif operation.lower() == 'u':\n",
    "    update()\n",
    "elif operation.lower() == 'd':\n",
    "    delete()\n",
    "else:\n",
    "    print(\"Please enter c, r, u, or d.\")"
   ]
  },
  {
   "attachments": {},
   "cell_type": "markdown",
   "metadata": {},
   "source": [
    "# Hacks\n",
    "- Build your own Blog, Using Programs with Data.  Begin the Blog with notes and answering the College Board practice problems for 2.4\n",
    "- Implement the code above to reflect your Sqlite.db created for your final project."
   ]
  }
 ],
 "metadata": {
  "kernelspec": {
   "display_name": "base",
   "language": "python",
   "name": "python3"
  },
  "language_info": {
   "codemirror_mode": {
    "name": "ipython",
    "version": 3
   },
   "file_extension": ".py",
   "mimetype": "text/x-python",
   "name": "python",
   "nbconvert_exporter": "python",
   "pygments_lexer": "ipython3",
   "version": "3.9.12"
  },
  "orig_nbformat": 4,
  "vscode": {
   "interpreter": {
    "hash": "65f6bdf080211a4261ca30203f2967d5d410cd9d47d7b7e5694003092334a949"
   }
  }
 },
 "nbformat": 4,
 "nbformat_minor": 2
}
