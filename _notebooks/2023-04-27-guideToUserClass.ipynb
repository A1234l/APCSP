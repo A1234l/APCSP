# A Guide to User Class
> Big Idea 2
- toc: true
- categories: []
- type: pbl
- week: 29
