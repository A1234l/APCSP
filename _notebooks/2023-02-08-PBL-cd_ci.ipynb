{
 "cells": [
  {
   "attachments": {},
   "cell_type": "markdown",
   "metadata": {},
   "source": [
    "# CI/CD on Flask, Integration of Github Pages and AWS\n",
    "> Countinuous Integration and Continuous Delivery. Information on connecting Github Pages with AWS.\n",
    "\n",
    "- title: CI/CD on Flask, Integration of Github Pages and AWS\n",
    "- toc: true\n",
    "- categories: []\n",
    "- image: /images/python.png\n",
    "- type: pbl\n",
    "- week: 22"
   ]
  }
 ],
 "metadata": {
  "kernelspec": {
   "display_name": "base",
   "language": "python",
   "name": "python3"
  },
  "language_info": {
   "name": "python",
   "version": "3.9.12 (main, Apr  5 2022, 06:56:58) \n[GCC 7.5.0]"
  },
  "orig_nbformat": 4,
  "vscode": {
   "interpreter": {
    "hash": "492680d7f32260e014d1f79865362606ff5bb770ec7c91b8748660834fe94c7e"
   }
  }
 },
 "nbformat": 4,
 "nbformat_minor": 2
}
