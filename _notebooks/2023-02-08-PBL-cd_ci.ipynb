{
 "cells": [
  {
   "attachments": {},
   "cell_type": "markdown",
   "metadata": {},
   "source": [
    "# CI/CD on Flask\n",
    ">  CI/CD with Github and AWS. Continuous Integration and Continuous Delivery. Information on connecting Github with AWS.\n",
    "\n",
    "- title: CI/CD with Github and AWS\n",
    "- toc: true\n",
    "- categories: []\n",
    "- image: /images/python.png\n",
    "- type: pbl\n",
    "- week: 22"
   ]
  },
  {
   "attachments": {},
   "cell_type": "markdown",
   "metadata": {},
   "source": [
    "## Setting up Automatic Deployment\n",
    "> This is how to do automatic deployment using GitHub actions, which can run code after a push is made. \n",
    "- First, a secret will need to be set up from your AWS PEM file for your SSH key, in the Repository Settings > Secrets create a new secret called SSH_KEY\n",
    "- This SSH_KEY should contain encoded output of your AWS PEM ```base64 -w 0 aws_ssh_key.pem``` (this encodes the key to use base64 ASCII characters).  The pem file for your server can be found in .ssh director on \"theway\".\n",
    "- GitHub Actions can be specified in the .github/workflows directory. In your repository create a file called .github/workflows/deploy_project.yml with the following content (this decodes the base64 key, uses SSH to update deployment project and rebuild docker container)\n",
    "\n",
    "```yml\n",
    "name: Deploy to Server\n",
    "on: [push]\n",
    "jobs:\n",
    "  AWS-Deploy:\n",
    "    runs-on: ubuntu-latest\n",
    "    steps:\n",
    "      - run: echo $\\{\\{ secrets.SSH_KEY \\}\\} | base64 -d > key.pem\n",
    "      - run: chmod 400 key.pem\n",
    "      - run: ssh -i key.pem -o StrictHostKeyChecking=no ubuntu@[your server ip/domain name] 'cd ~/[your git folder]; git pull; docker-compose down; docker-compose up -d --build'\n",
    "```\n"
   ]
  }
 ],
 "metadata": {
  "kernelspec": {
   "display_name": "Python 3",
   "language": "python",
   "name": "python3"
  },
  "language_info": {
   "name": "python",
   "version": "3.11.1 (main, Dec 23 2022, 09:39:26) [Clang 14.0.0 (clang-1400.0.29.202)]"
  },
  "orig_nbformat": 4,
  "vscode": {
   "interpreter": {
    "hash": "1a1af0ee75eeea9e2e1ee996c87e7a2b11a0bebd85af04bb136d915cefc0abce"
   }
  }
 },
 "nbformat": 4,
 "nbformat_minor": 2
}
