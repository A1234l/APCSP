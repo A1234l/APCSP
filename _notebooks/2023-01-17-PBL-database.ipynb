{
 "cells": [
  {
   "attachments": {},
   "cell_type": "markdown",
   "metadata": {},
   "source": [
    "# Database/Model, Python, Backend, OOP\n",
    "> The project-based learning objective is to create a purposeful backend, something that can't be done in frontend via JavaScript.  A database and storing persistent data is a primary focus of most backend systems.  An SQLite Database using the Python SQLAlchemy framework will be the outcome of this lesson.  As students learn databases using SQLAlchemy, they will also learn about Object-oriented programming in Python.\n",
    "\n",
    "- title: Database/Model, Python, Backend, OOP\n",
    "- toc: true\n",
    "- categories: []\n",
    "- image: /images/python.png\n",
    "- type: pbl\n",
    "- week: 19"
   ]
  },
  {
   "cell_type": "markdown",
   "metadata": {},
   "source": [
    "## Database and Table Terms\n",
    "> The foundations of database is defining one or more ***Tables***.  In Python, a database can be constructed using the foundations we learned in modeling a Class.\n",
    "* A \"Table\" is a Model/Schema within a Database.  \n",
    "* A \"Table\" definition in Python/SQLAlchemy is manifested by defining a \"***Class***\" and \"***Attributes***\" in Python.  \n",
    "* A Python ***Class can inherit database functionality*** from SQLAlchemy.  This is a method Python developers use to turn a Class into a Table within a ***SQL Database***.\n",
    "* Writing methods in the Class for Create, Read, Update, Delete (***CRUD***) is how a developer initiates database operations."
   ]
  },
  {
   "attachments": {},
   "cell_type": "markdown",
   "metadata": {},
   "source": [
    "### Reference\n",
    "- [SQLAlchemy](https://www.sqlalchemy.org/)\n",
    "- [Python Backend with Flask, SQLite](https://www.ffnext.io/blog/python-backend-with-flask-for-beginners#:~:text=You%20can%20create%20an%20HTTP,command%3A%20python%20app.py.)\n",
    "- [Backend API and Flask](https://www.ffnext.io/blog/python-backend-with-flask-for-beginners#:~:text=You%20can%20create%20an%20HTTP,command%3A%20python%20app.py.)"
   ]
  },
  {
   "attachments": {},
   "cell_type": "markdown",
   "metadata": {},
   "source": [
    "### Outline for Backend Model and Database \n",
    "\n",
    "> ***Model/Database concepts...***\n",
    "1. [Users Table Schema](https://github.com/nighthawkcoders/flask_portfolio/blob/main/model/users.py#L72-L80)\n",
    "2. [Database Properties](https://github.com/nighthawkcoders/flask_portfolio/blob/main/model/users.py#L72-L80)\n",
    "3. [Initial Database Setup (call)](https://github.com/nighthawkcoders/flask_portfolio/blob/main/main.py#L38-L41)\n",
    "4. [Initial Database Setup (add records)](https://github.com/nighthawkcoders/flask_portfolio/blob/main/main.py#L38-L41)\n",
    "5. [OOP CRUD operations](https://github.com/nighthawkcoders/flask_portfolio/blob/main/model/users.py#L72-L80)\n",
    "\n",
    "> ***DevOps concepts***\n",
    "1. [Volumes in Deployment](https://github.com/nighthawkcoders/flask_portfolio/blob/main/docker-compose.yml)\n",
    "2. [Database URI (deployment)](https://github.com/nighthawkcoders/flask_portfolio/blob/main/__init__.py#L15)\n",
    "3. [Review Dockerfile](https://github.com/nighthawkcoders/flask_portfolio/blob/main/Dockerfile)\n",
    "4. [Database URI (testing)](https://github.com/nighthawkcoders/flask_portfolio/blob/main/main.py#L46)\n",
    "5. [Exclude/Ignore Testing Database](https://github.com/nighthawkcoders/flask_portfolio/blob/main/.gitignore#L4)\n",
    "6. [Port and Host (testing)](https://github.com/nighthawkcoders/flask_portfolio/blob/main/main.py#L47)\n"
   ]
  }
 ],
 "metadata": {
  "kernelspec": {
   "display_name": "Python 3.9.12 ('base')",
   "language": "python",
   "name": "python3"
  },
  "language_info": {
   "name": "python",
   "version": "3.9.12 (main, Apr  5 2022, 01:53:17) \n[Clang 12.0.0 ]"
  },
  "orig_nbformat": 4,
  "vscode": {
   "interpreter": {
    "hash": "8b82d5009c68ba5675978267e2b13a671f2a7143d61273c5a3813c97e0b2493d"
   }
  }
 },
 "nbformat": 4,
 "nbformat_minor": 2
}
