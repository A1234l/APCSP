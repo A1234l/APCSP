{
 "cells": [
  {
   "cell_type": "markdown",
   "metadata": {},
   "source": [
    "# Anthony and Sahil: A Reflection on Computer Science\n",
    "> An article detailing our motivations and accomplishments in computer science\n",
    "\n",
    "- title: Anthony and Sahil's Reflections on Computer Science\n",
    "- toc: true\n",
    "- comments: true\n",
    "- image: /images/python_basics_cheat_sheet.webp\n",
    "- permalink: /collegeboard/anthony-and-sahil\n",
    "- tags: [collegeboard]"
   ]
  }
 ],
 "metadata": {
  "kernelspec": {
   "display_name": "Python 3.10.6 64-bit (windows store)",
   "language": "python",
   "name": "python3"
  },
  "language_info": {
   "name": "python",
   "version": "3.10.6"
  },
  "orig_nbformat": 4,
  "vscode": {
   "interpreter": {
    "hash": "a353d7e27fe9c8e5def102afe7b1f30da1e7b708cac20528f442b1c12ef1bafb"
   }
  }
 },
 "nbformat": 4,
 "nbformat_minor": 2
}
