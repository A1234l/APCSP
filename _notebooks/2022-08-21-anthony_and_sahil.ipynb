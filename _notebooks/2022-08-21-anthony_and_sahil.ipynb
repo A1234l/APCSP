{
 "cells": [
  {
   "cell_type": "markdown",
   "metadata": {},
   "source": [
    "# Hello to Python\n",
    "> A journey through Python starting the classic \"Hello, World\" example, then progressing in learning to building a quiz.  This focuses on College Board vocabulary and examples using Variables, Assignments, Functions, and Selection.\n",
    "\n",
    "- title: Hello to Python\n",
    "- toc: true\n",
    "- comments: true\n",
    "- image: /images/python_basics_cheat_sheet.webp\n",
    "- permalink: /collegeboard/python\n",
    "- tags: [collegeboard]"
   ]
  }
 ],
 "metadata": {
  "kernelspec": {
   "display_name": "Python 3.10.6 64-bit (windows store)",
   "language": "python",
   "name": "python3"
  },
  "language_info": {
   "name": "python",
   "version": "3.10.6"
  },
  "orig_nbformat": 4,
  "vscode": {
   "interpreter": {
    "hash": "a353d7e27fe9c8e5def102afe7b1f30da1e7b708cac20528f442b1c12ef1bafb"
   }
  }
 },
 "nbformat": 4,
 "nbformat_minor": 2
}
