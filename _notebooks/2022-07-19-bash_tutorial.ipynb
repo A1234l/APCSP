{
 "cells": [
  {
   "cell_type": "markdown",
   "metadata": {},
   "source": [
    "# PBL - Bash Tutorial\n",
    "> A brief overview of Bash, on your way to becoming a Linux expert.  When a computer boots up, a kernel (MacOS, Windows, Linux) is started.  This kernel provides a shell that allows user to interact with a most basic set of commands.  Typically, the casual user will not interact with the shell as a Desktop User Interface is started by the computer boot up process.  To activate the shell directly, users will run a \"terminal\" through the Desktop, VS Code or activate \"console\" while on a cloud computer like AWS.\n",
    "\n",
    "- layout: default\n",
    "- categories: [pbl]\n",
    "- permalink: /tutorial/bash"
   ]
  },
  {
   "cell_type": "markdown",
   "metadata": {},
   "source": [
    "## Prerequisites for Bash on Jupyter\n",
    "> Install the Bash Kernel for Jupyter notebooks.  I used pip3 and python3 and both were in my path.  This allowed me to build this tutorial.\n",
    "\n",
    "- pip install bash_kernel\n",
    "- python -m bash_kernel.install\n",
    "\n",
    "Selecting a kernel should now have bash in options.\n",
    "![](images/kernels.png)"
   ]
  },
  {
   "cell_type": "markdown",
   "metadata": {},
   "source": [
    "## Files and Directories\n",
    "> All computers contain files and directories.  Using the bash shell you will see some commands that show and interact with files and directories.\n",
    "\n",
    "- \"ls\" lists computer files in Unix and Unix-like operating systems\n",
    "- \"cd\" offers way to navigate and change working directory\n",
    "- \"pwd\" print working directory\n",
    "- \"echo\" used to display line of text/string that are passed as an argument\n",
    "- \"cat\" reads data from the file and gives its content as output\n",
    "- \"env\" prints the environment variables of the shell"
   ]
  },
  {
   "cell_type": "code",
   "execution_count": 1,
   "metadata": {
    "vscode": {
     "languageId": "shellscript"
    }
   },
   "outputs": [
    {
     "name": "stdout",
     "output_type": "stream",
     "text": [
      "print my project directory (~) and show contents in directory\n",
      "/Users/johnmortensen/vsProjects/APCSP/_notebooks\n",
      "2022-06-27-hello.ipynb\t\t2022-07-19-bash_tutorial.ipynb\n",
      "2022-06-29-lists.ipynb\t\tREADME.md\n",
      "2022-07-06-js_tutorial.ipynb\timages\n"
     ]
    }
   ],
   "source": [
    "echo \"print my project directory (~) and show contents in directory\"\n",
    "cd ~/vsProjects/APCSP/_notebooks/\n",
    "pwd\n",
    "ls"
   ]
  },
  {
   "cell_type": "code",
   "execution_count": 2,
   "metadata": {
    "vscode": {
     "languageId": "shellscript"
    }
   },
   "outputs": [
    {
     "name": "stdout",
     "output_type": "stream",
     "text": [
      "change directory, print working directory, list files\n",
      "/Users/johnmortensen/vsProjects/APCSP/_notebooks/images\n",
      "kernels.png\n",
      "\n",
      "change directory back one level, print working directory, list files in long format\n",
      "/Users/johnmortensen/vsProjects/APCSP/_notebooks\n",
      "total 128\n",
      "-rw-r--r--  1 johnmortensen  staff  11919 Jul 19 18:49 2022-06-27-hello.ipynb\n",
      "-rw-r--r--  1 johnmortensen  staff  12301 Jun 30 09:55 2022-06-29-lists.ipynb\n",
      "-rw-r--r--  1 johnmortensen  staff  15711 Jul 19 17:34 2022-07-06-js_tutorial.ipynb\n",
      "-rw-r--r--  1 johnmortensen  staff  14788 Jul 19 19:12 2022-07-19-bash_tutorial.ipynb\n",
      "-rw-r--r--  1 johnmortensen  staff    771 Jun 26 21:51 README.md\n",
      "drwxr-xr-x  3 johnmortensen  staff     96 Jul 19 17:31 images\n"
     ]
    }
   ],
   "source": [
    "echo \"change directory, print working directory, list files\"\n",
    "cd images\n",
    "pwd\n",
    "ls\n",
    "echo \"\"\n",
    "echo \"change directory back one level, print working directory, list files in long format\"\n",
    "cd ..\n",
    "pwd\n",
    "ls -l"
   ]
  },
  {
   "cell_type": "code",
   "execution_count": 3,
   "metadata": {
    "vscode": {
     "languageId": "shellscript"
    }
   },
   "outputs": [
    {
     "name": "stdout",
     "output_type": "stream",
     "text": [
      "show the contents of README.md\n",
      "\n",
      "# Auto-convert Jupyter Notebooks To Posts\n",
      "\n",
      "[`fastpages`](https://github.com/fastai/fastpages) will automatically convert [Jupyter](https://jupyter.org/) Notebooks saved into this directory as blog posts!\n",
      "\n",
      "You must save your notebook with the naming convention `YYYY-MM-DD-*.ipynb`.  Examples of valid filenames are:\n",
      "\n",
      "```shell\n",
      "2020-01-28-My-First-Post.ipynb\n",
      "2012-09-12-how-to-write-a-blog.ipynb\n",
      "```\n",
      "\n",
      "If you fail to name your file correctly, `fastpages` will automatically attempt to fix the problem by prepending the last modified date of your notebook. However, it is recommended that you name your files properly yourself for more transparency.\n",
      "\n",
      "See [Writing Blog Posts With Jupyter](https://github.com/fastai/fastpages#writing-blog-posts-with-jupyter) for more details."
     ]
    }
   ],
   "source": [
    "echo \"show the contents of README.md\"\n",
    "echo \"\"\n",
    "\n",
    "cat README.md"
   ]
  },
  {
   "cell_type": "code",
   "execution_count": 4,
   "metadata": {
    "vscode": {
     "languageId": "shellscript"
    }
   },
   "outputs": [
    {
     "name": "stdout",
     "output_type": "stream",
     "text": [
      "show the shell environment variables\n",
      "\n",
      "PYTHONUNBUFFERED=1\n",
      "OLDPWD=/Users/johnmortensen/vsProjects/APCSP/_notebooks/images\n",
      "PYDEVD_USE_FRAME_EVAL=NO\n",
      "PYTHONIOENCODING=utf-8\n",
      "__CF_USER_TEXT_ENCODING=0x1F5:0x0:0x0\n",
      "PAGER=cat\n",
      "PWD=/Users/johnmortensen/vsProjects/APCSP/_notebooks\n",
      "PS1=[PEXP\\[\\]ECT_PROMPT>\n",
      "SHLVL=1\n",
      "LC_CTYPE=UTF-8\n",
      "_=/usr/bin/env\n"
     ]
    }
   ],
   "source": [
    "echo \"show the shell environment variables\"\n",
    "echo \"\"\n",
    "\n",
    "env"
   ]
  },
  {
   "cell_type": "markdown",
   "metadata": {},
   "source": [
    "### In Terminal on MacOS\n",
    "> Practice pulling code from git to your machine.  After you do this you should be able to navigate to the files.  As of this writing git clone did not work well in jupyter bash kernel.\n",
    "\n",
    "```bash\n",
    "cd /Users/johnmortensen/Downloads\n",
    "git clone https://github.com/nighthawkcoders/flask_portfolio.git\n",
    "```"
   ]
  },
  {
   "cell_type": "code",
   "execution_count": 5,
   "metadata": {
    "vscode": {
     "languageId": "shellscript"
    }
   },
   "outputs": [
    {
     "name": "stdout",
     "output_type": "stream",
     "text": [
      "navigate to downloads, then navigate to area wwhere files were cloned\n",
      "/Users/johnmortensen/Downloads/flask_portfolio\n",
      "\n",
      "list files pulled from github\n",
      "README.md\t\trequirements.txt\ttemplates\n",
      "main.py\t\t\tstatic\n",
      "\n",
      "list with hidden files pulled from github\n",
      ".\t\t\t.gitignore\t\trequirements.txt\n",
      "..\t\t\tREADME.md\t\tstatic\n",
      ".git\t\t\tmain.py\t\t\ttemplates\n"
     ]
    }
   ],
   "source": [
    "echo \"navigate to downloads, then navigate to area wwhere files were cloned\"\n",
    "cd ~/Downloads\n",
    "cd flask_portfolio\n",
    "pwd\n",
    "\n",
    "echo \"\"\n",
    "echo \"list files pulled from github\"\n",
    "ls\n",
    "\n",
    "echo \"\"\n",
    "echo \"list with hidden files pulled from github\"\n",
    "ls -a\n"
   ]
  },
  {
   "cell_type": "markdown",
   "metadata": {},
   "source": [
    "### Deployment and GitHub\n",
    "> GitHub is NOT Only used to exchange code between individuals, it IS used to exchange code through deployment.   \n",
    "\n",
    "- \"github clone\" sets up a director of files\n",
    "- \"cd flaskportfolio\" allows user or machine to be inside that directory of files\n",
    "- \".git\" is a directory that is used by git to establish relationship between machine and the git server on GitHub.  \n",
    "\n",
    "All tools we use have a behind the scenes relationship with the system they run on (MacOS, Windows, Linus) or servers which they are connected to (GitHub).  Note the variable names and values, similar to \"env\" command.  The format of .git/config and env may be different, but the key/value concept is the same."
   ]
  },
  {
   "cell_type": "code",
   "execution_count": 6,
   "metadata": {
    "vscode": {
     "languageId": "shellscript"
    }
   },
   "outputs": [
    {
     "name": "stdout",
     "output_type": "stream",
     "text": [
      "\n",
      "show the secrets of .git\n",
      "total 40\n",
      "-rw-r--r--   1 johnmortensen  staff    21 Jul 19 18:17 HEAD\n",
      "drwxr-xr-x   2 johnmortensen  staff    64 Jul 19 18:17 branches\n",
      "-rw-r--r--   1 johnmortensen  staff   320 Jul 19 18:17 config\n",
      "-rw-r--r--   1 johnmortensen  staff    73 Jul 19 18:17 description\n",
      "drwxr-xr-x  13 johnmortensen  staff   416 Jul 19 18:17 hooks\n",
      "-rw-r--r--   1 johnmortensen  staff  1635 Jul 19 18:17 index\n",
      "drwxr-xr-x   3 johnmortensen  staff    96 Jul 19 18:17 info\n",
      "drwxr-xr-x   4 johnmortensen  staff   128 Jul 19 18:17 logs\n",
      "drwxr-xr-x  84 johnmortensen  staff  2688 Jul 19 18:17 objects\n",
      "-rw-r--r--   1 johnmortensen  staff   112 Jul 19 18:17 packed-refs\n",
      "drwxr-xr-x   5 johnmortensen  staff   160 Jul 19 18:17 refs\n",
      "\n",
      "look at config file\n",
      "[core]\n",
      "\trepositoryformatversion = 0\n",
      "\tfilemode = true\n",
      "\tbare = false\n",
      "\tlogallrefupdates = true\n",
      "\tignorecase = true\n",
      "\tprecomposeunicode = true\n",
      "[remote \"origin\"]\n",
      "\turl = https://github.com/nighthawkcoders/flask_portfolio.git\n",
      "\tfetch = +refs/heads/*:refs/remotes/origin/*\n",
      "[branch \"main\"]\n",
      "\tremote = origin\n",
      "\tmerge = refs/heads/main\n"
     ]
    }
   ],
   "source": [
    "cd ~/Downloads\n",
    "cd flask_portfolio\n",
    "\n",
    "echo \"\"\n",
    "echo \"show the secrets of .git\"\n",
    "cd .git\n",
    "ls -l\n",
    "\n",
    "echo \"\"\n",
    "echo \"look at config file\"\n",
    "cat config"
   ]
  },
  {
   "cell_type": "markdown",
   "metadata": {},
   "source": [
    "## Hacks\n",
    "Learning how to run this demo on your machine will require some setup.\n",
    "\n",
    "- \"mkdir\" is a command that allows you to make a new directory.  To run this demo you would need to:\n",
    "    - mkdir ~/vsProjects\n",
    "- \"git clone\" add the APCSP project into this directory\n",
    "- \"cd ~\" this command on my machine is shorthand for cd /Users/johnmortensen.  On your machine it would replace your username for mine."
   ]
  }
 ],
 "metadata": {
  "kernelspec": {
   "display_name": "Bash",
   "language": "bash",
   "name": "bash"
  },
  "language_info": {
   "codemirror_mode": "shell",
   "file_extension": ".sh",
   "mimetype": "text/x-sh",
   "name": "bash"
  },
  "orig_nbformat": 4
 },
 "nbformat": 4,
 "nbformat_minor": 2
}
