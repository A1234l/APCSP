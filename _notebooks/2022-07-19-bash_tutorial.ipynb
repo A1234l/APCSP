{
 "cells": [
  {
   "cell_type": "markdown",
   "metadata": {},
   "source": [
    "# PBL - Bash Tutorial\n",
    "> A brief overview of Bash.  When a computer boots up, a kernel (MacOS, Windows, Linux) is started.  This kernel provides a shell that allows user to interact with a most basic set of commands.  Typically, the casual user will not interact with the shell as a Desktop User Interface is started by the computer boot up process.  To activate the shell directly, we will run a \"terminal\" through VS Code or \"console\" while in AWS.\n",
    "\n",
    "- layout: default\n",
    "- categories: [pbl]\n",
    "- permalink: /tutorial/bash"
   ]
  },
  {
   "cell_type": "markdown",
   "metadata": {},
   "source": [
    "## Prerequisites for Bash on Jupyter\n",
    "> Install the Bash Kernel for Jupyter notebooks.  I used pip3 and python3 and both were in my path.  This allowed me to build this tutorial.\n",
    "\n",
    "- pip install bash_kernel\n",
    "- python -m bash_kernel.install\n",
    "\n",
    "Selecting a kernel should now have bash in options.\n",
    "![](images/kernels.png)"
   ]
  },
  {
   "cell_type": "markdown",
   "metadata": {},
   "source": [
    "## Files and Directories\n",
    "> All computers contain files and directories.  Using the bash shell you will see some commands that show and interact with files and directories.\n",
    "\n",
    "- \"ls\" lists computer files in Unix and Unix-like operating systems\n",
    "- \"cd\" offers way to navigate and change working directory\n",
    "- \"pwd\" print working directory\n",
    "- \"echo\" used to display line of text/string that are passed as an argument\n",
    "- \"cat\" reads data from the file and gives its content as output\n",
    "- \"env\" prints the environment variables of the shell"
   ]
  },
  {
   "cell_type": "code",
   "execution_count": 25,
   "metadata": {
    "vscode": {
     "languageId": "shellscript"
    }
   },
   "outputs": [
    {
     "name": "stdout",
     "output_type": "stream",
     "text": [
      "print working directory and show contents in directory\n",
      "/Users/johnmortensen/Downloads/flask_portfolio\n",
      "README.md\t\trequirements.txt\ttemplates\n",
      "main.py\t\t\tstatic\n"
     ]
    }
   ],
   "source": [
    "echo \"print my project directory (~) and show contents in directory\"\n",
    "cd ~/vsProjects/APCSP/_notebooks/\n",
    "pwd\n",
    "ls"
   ]
  },
  {
   "cell_type": "code",
   "execution_count": 26,
   "metadata": {
    "vscode": {
     "languageId": "shellscript"
    }
   },
   "outputs": [
    {
     "name": "stdout",
     "output_type": "stream",
     "text": [
      "change directory, print working directory, list files\n",
      "bash: cd: images: No such file or directory\n",
      "/Users/johnmortensen/Downloads/flask_portfolio\n",
      "README.md\t\trequirements.txt\ttemplates\n",
      "main.py\t\t\tstatic\n",
      "\n",
      "change directory back one level, print working directory, list files in long format\n",
      "/Users/johnmortensen/Downloads\n",
      "total 1175040\n",
      "-rw-r--r--@ 1 johnmortensen  staff     675980 Apr 28 12:40 1E20D0E5-A652-4601-A8B8-B74F3A027C17.JPG\n",
      "-rw-r--r--@ 1 johnmortensen  staff     407563 Jul  5 14:56 2020-01-01-Microsoft-Word-Example-Post.docx\n",
      "-rw-r--r--@ 1 johnmortensen  staff     326286 Jun 14 12:33 2022-06-14-Curriculum Map-David- 2021-2022.docx\n",
      "-rw-r--r--@ 1 johnmortensen  staff   35214017 May  5 14:15 AmazonChime-OSX-notarize.release-4.39.8628.dmg\n",
      "drwxr-xr-x@ 3 johnmortensen  staff         96 Dec 23  2021 Coding Pack for Java.app\n",
      "-rw-r--r--@ 1 johnmortensen  staff    2262291 Apr 20 17:08 Fully executed lease agreemnt for your file.pdf\n",
      "-rw-r--r--@ 1 johnmortensen  staff     906400 Jun  7 18:30 GeoMadHulyler.jpg\n",
      "-rw-r--r--@ 1 johnmortensen  staff    1342454 Apr 29 14:28 Hull Quote.pdf\n",
      "-rw-r--r--@ 1 johnmortensen  staff     756912 Aug  1  2021 IMG_0301.JPG\n",
      "-rw-r--r--@ 1 johnmortensen  staff    1057770 Aug  1  2021 IMG_0302 3.JPG\n",
      "-rw-r--r--@ 1 johnmortensen  staff  102013487 Jun 15 17:47 JavaCodingPack-0.4.1 (1).zip\n",
      "-rw-r--r--@ 1 johnmortensen  staff  102013487 Jun  6 07:44 JavaCodingPack-0.4.1.zip\n",
      "-rw-r--r--@ 1 johnmortensen  staff   13992401 Mar 26 13:35 MortensenTaxes2021v2.pdf\n",
      "-rw-r--r--@ 1 johnmortensen  staff  112503375 Apr  9 07:35 Screen Recording 2022-04-02 at 12.15.44 AM.mov\n",
      "-rwx------@ 1 johnmortensen  staff     197867 Apr  5 18:41 Tax2021Worksheets.numbers\n",
      "-rw-r--r--@ 1 johnmortensen  staff  110546899 May 15 15:31 Teams_osx_s_8DA36C2ECC2BE71-7-0_c_w_.pkg\n",
      "-rw-r--r--@ 1 johnmortensen  staff  108574512 Jun  6 07:46 VSCode-darwin.zip\n",
      "drwxr-xr-x@ 3 johnmortensen  staff         96 Apr 21 02:11 Visual Studio Code.app\n",
      "-rw-r--r--@ 1 johnmortensen  staff       1678 May 31 10:59 a2.pem\n",
      "-rw-r--r--@ 1 johnmortensen  staff     129584 Jun 16 12:01 agile.webp\n",
      "-rw-r--r--@ 1 johnmortensen  staff     527818 Jun 14 12:20 apcsa.png\n",
      "-rw-r--r--@ 1 johnmortensen  staff     502444 Jun 26 22:01 apcsp.png\n",
      "-rw-r--r--@ 1 johnmortensen  staff      50994 Jun  4 20:12 bewarelest.webp\n",
      "-rw-r--r--@ 1 johnmortensen  staff       6123 Mar 26 06:16 classroster.csv\n",
      "-rw-r--r--@ 1 johnmortensen  staff       1674 May 27 09:56 drain.pem\n",
      "-rw-r--r--@ 1 johnmortensen  staff     238049 Jun 17 06:33 extensions.png\n",
      "-rw-r--r--@ 1 johnmortensen  staff      98592 Jun 16 19:59 fastpages.png\n",
      "drwx------@ 9 johnmortensen  staff        288 Jun 14 19:41 favicon_io\n",
      "-rw-r--r--@ 1 johnmortensen  staff      84090 Jun 14 19:41 favicon_io.zip\n",
      "drwxr-xr-x  9 johnmortensen  staff        288 Jul 19 18:17 flask_portfolio\n",
      "-rw-r--r--@ 1 johnmortensen  staff     104414 Jun 20 09:39 frontend.png\n",
      "-rw-r--r--@ 1 johnmortensen  staff      15614 Jun  8 17:59 goldrickchildren.jpeg\n",
      "-rw-r--r--@ 1 johnmortensen  staff      71887 Jul  5 21:25 html-css-js.jpeg\n",
      "-rw-r--r--@ 1 johnmortensen  staff    3366077 Jun 13 19:43 ijava-1.3.0.zip\n",
      "-rw-r--r--@ 1 johnmortensen  staff       7471 May  5  2019 install.py\n",
      "drwxr-xr-x@ 5 johnmortensen  staff        160 May  5  2019 java\n",
      "-rw-r--r--@ 1 johnmortensen  staff       2055 Jun 24 19:05 java.png\n",
      "-rw-r--r--@ 1 johnmortensen  staff       4132 Jun  8 17:35 julianwhalen.jpeg\n",
      "-rw-r--r--@ 1 johnmortensen  staff      79231 Jul 19 17:24 kernels.png\n",
      "-rw-------@ 1 johnmortensen  staff       1674 Apr 13 17:20 nighthawk.pem\n",
      "-rw-r--r--@ 1 johnmortensen  staff      46391 Apr 19 15:10 original.jpeg\n",
      "-rw-r--r--@ 1 johnmortensen  staff         96 May 12 10:20 paul_accessKeys (1).csv\n",
      "-rw-r--r--@ 1 johnmortensen  staff         96 May 12 10:19 paul_accessKeys.csv\n",
      "-rw-r--r--@ 1 johnmortensen  staff      27180 Jun 24 19:36 pojo.jpeg\n",
      "-rw-r--r--@ 1 johnmortensen  staff     787433 Jun  4 07:08 rahab.png\n",
      "-rw-r--r--@ 1 johnmortensen  staff     422993 May 17 08:52 reddragonmoon.jpeg\n",
      "-rw-r--r--@ 1 johnmortensen  staff      64998 Jun 20 10:38 resources.png\n",
      "-rw-r--r--@ 1 johnmortensen  staff      89191 Jun 24 19:14 spring.html\n",
      "-rw-r--r--@ 1 johnmortensen  staff       7962 Jun 24 19:08 spring.jpeg\n",
      "-rw-r--r--@ 1 johnmortensen  staff      41083 Jun 24 19:14 spring.png\n",
      "-rw-r--r--@ 1 johnmortensen  staff      57711 May  2 11:45 tux (1).jpg\n",
      "-rw-r--r--@ 1 johnmortensen  staff      57711 May  2 11:44 tux.jpg\n",
      "-rw-r--r--@ 1 johnmortensen  staff    1818794 Jun  7 18:30 youngLeslie.jpg\n",
      "-rw-r--r--@ 1 johnmortensen  staff        162 Jul  5 14:56 ~$20-01-01-Microsoft-Word-Example-Post.docx\n"
     ]
    }
   ],
   "source": [
    "echo \"change directory, print working directory, list files\"\n",
    "cd images\n",
    "pwd\n",
    "ls\n",
    "echo \"\"\n",
    "echo \"change directory back one level, print working directory, list files in long format\"\n",
    "cd ..\n",
    "pwd\n",
    "ls -l"
   ]
  },
  {
   "cell_type": "code",
   "execution_count": 27,
   "metadata": {
    "vscode": {
     "languageId": "shellscript"
    }
   },
   "outputs": [
    {
     "name": "stdout",
     "output_type": "stream",
     "text": [
      "show the contents of README.md\n",
      "\n",
      "cat: README.md: No such file or directory\n"
     ]
    },
    {
     "ename": "",
     "evalue": "1",
     "output_type": "error",
     "traceback": []
    }
   ],
   "source": [
    "echo \"show the contents of README.md\"\n",
    "echo \"\"\n",
    "\n",
    "cat README.md"
   ]
  },
  {
   "cell_type": "code",
   "execution_count": null,
   "metadata": {
    "vscode": {
     "languageId": "shellscript"
    }
   },
   "outputs": [
    {
     "name": "stdout",
     "output_type": "stream",
     "text": [
      "show the contents of README.md\n",
      "\n",
      "PYTHONUNBUFFERED=1\n",
      "PYDEVD_USE_FRAME_EVAL=NO\n",
      "PYTHONIOENCODING=utf-8\n",
      "__CF_USER_TEXT_ENCODING=0x1F5:0x0:0x0\n",
      "PAGER=cat\n",
      "PWD=/Users/johnmortensen/vsProjects/APCSP/_notebooks\n",
      "PS1=[PEXP\\[\\]ECT_PROMPT>\n",
      "SHLVL=1\n",
      "LC_CTYPE=UTF-8\n",
      "_=/usr/bin/env\n",
      "OLDPWD=/Users/johnmortensen/vsProjects/APCSP/_notebooks/images\n"
     ]
    }
   ],
   "source": [
    "echo \"show the shell environment variables\"\n",
    "echo \"\"\n",
    "\n",
    "env"
   ]
  },
  {
   "cell_type": "markdown",
   "metadata": {},
   "source": [
    "### In Terminal on MacOS\n",
    "> Practice pulling code from git to your machine.  After you do this you should be able to navigate to the files.  As of this writing git clone did not work well in jupyter bash kernel.\n",
    "\n",
    "```bash\n",
    "cd /Users/johnmortensen/Downloads\n",
    "git clone https://github.com/nighthawkcoders/flask_portfolio.git\n",
    "```"
   ]
  },
  {
   "cell_type": "code",
   "execution_count": 7,
   "metadata": {
    "vscode": {
     "languageId": "shellscript"
    }
   },
   "outputs": [
    {
     "name": "stdout",
     "output_type": "stream",
     "text": [
      "navigate to downloads, then navigate to area wwhere files were cloned\n",
      "/Users/johnmortensen/Downloads/flask_portfolio\n",
      "\n",
      "list files pulled from github\n",
      "README.md\t\trequirements.txt\ttemplates\n",
      "main.py\t\t\tstatic\n",
      "\n",
      "list with hidden files pulled from github\n",
      ".\t\t\t.gitignore\t\trequirements.txt\n",
      "..\t\t\tREADME.md\t\tstatic\n",
      ".git\t\t\tmain.py\t\t\ttemplates\n"
     ]
    }
   ],
   "source": [
    "echo \"navigate to downloads, then navigate to area wwhere files were cloned\"\n",
    "cd ~/Downloads\n",
    "cd flask_portfolio\n",
    "pwd\n",
    "\n",
    "echo \"\"\n",
    "echo \"list files pulled from github\"\n",
    "ls\n",
    "\n",
    "echo \"\"\n",
    "echo \"list with hidden files pulled from github\"\n",
    "ls -a\n"
   ]
  },
  {
   "cell_type": "markdown",
   "metadata": {},
   "source": [
    "### Deployment and GitHub\n",
    "> GitHub is NOT Only used to exchange code between individuals, it IS used to exchange code through deployment.   \n",
    "\n",
    "- \"github clone\" sets up a director of files\n",
    "- \"cd flaskportfolio\" allows user or machine to be inside that directory of files\n",
    "- \".git\" is a directory that is used by git to establish relationship between machine and the git server on GitHub.  \n",
    "\n",
    "All tools we use have a behind the scenes relationship with the system they run on (MacOS, Windows, Linus) or servers which they are connected to (GitHub).  Note the variable names and values, similar to \"env\" command.  The format of .git/config and env may be different, but the key/value concept is the same."
   ]
  },
  {
   "cell_type": "code",
   "execution_count": 8,
   "metadata": {
    "vscode": {
     "languageId": "shellscript"
    }
   },
   "outputs": [
    {
     "name": "stdout",
     "output_type": "stream",
     "text": [
      "\n",
      "show the secrets of .git\n",
      "total 40\n",
      "-rw-r--r--   1 johnmortensen  staff    21 Jul 19 18:17 HEAD\n",
      "drwxr-xr-x   2 johnmortensen  staff    64 Jul 19 18:17 branches\n",
      "-rw-r--r--   1 johnmortensen  staff   320 Jul 19 18:17 config\n",
      "-rw-r--r--   1 johnmortensen  staff    73 Jul 19 18:17 description\n",
      "drwxr-xr-x  13 johnmortensen  staff   416 Jul 19 18:17 hooks\n",
      "-rw-r--r--   1 johnmortensen  staff  1635 Jul 19 18:17 index\n",
      "drwxr-xr-x   3 johnmortensen  staff    96 Jul 19 18:17 info\n",
      "drwxr-xr-x   4 johnmortensen  staff   128 Jul 19 18:17 logs\n",
      "drwxr-xr-x  84 johnmortensen  staff  2688 Jul 19 18:17 objects\n",
      "-rw-r--r--   1 johnmortensen  staff   112 Jul 19 18:17 packed-refs\n",
      "drwxr-xr-x   5 johnmortensen  staff   160 Jul 19 18:17 refs\n",
      "\n",
      "look at config file\n",
      "[core]\n",
      "\trepositoryformatversion = 0\n",
      "\tfilemode = true\n",
      "\tbare = false\n",
      "\tlogallrefupdates = true\n",
      "\tignorecase = true\n",
      "\tprecomposeunicode = true\n",
      "[remote \"origin\"]\n",
      "\turl = https://github.com/nighthawkcoders/flask_portfolio.git\n",
      "\tfetch = +refs/heads/*:refs/remotes/origin/*\n",
      "[branch \"main\"]\n",
      "\tremote = origin\n",
      "\tmerge = refs/heads/main\n"
     ]
    }
   ],
   "source": [
    "cd ~/Downloads\n",
    "cd flask_portfolio\n",
    "\n",
    "echo \"\"\n",
    "echo \"show the secrets of .git\"\n",
    "cd .git\n",
    "ls -l\n",
    "\n",
    "echo \"\"\n",
    "echo \"look at config file\"\n",
    "cat config"
   ]
  },
  {
   "cell_type": "markdown",
   "metadata": {},
   "source": [
    "## Hacks\n",
    "Learning how to run this demo on your machine will require some setup.\n",
    "\n",
    "- \"mkdir\" is a command that allows you to make a new directory.  To run this demo you would need to:\n",
    "    - mkdir ~/vsProjects\n",
    "- \"git clone\" add the APCSP project into this directory\n",
    "- \"cd ~\" this command on my machine is shorthand for cd /Users/johnmortensen.  On your machine it would replace your username for mine."
   ]
  }
 ],
 "metadata": {
  "kernelspec": {
   "display_name": "Bash",
   "language": "bash",
   "name": "bash"
  },
  "language_info": {
   "codemirror_mode": "shell",
   "file_extension": ".sh",
   "mimetype": "text/x-sh",
   "name": "bash"
  },
  "orig_nbformat": 4
 },
 "nbformat": 4,
 "nbformat_minor": 2
}
