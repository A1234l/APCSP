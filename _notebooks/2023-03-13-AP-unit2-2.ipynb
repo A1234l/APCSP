{
 "cells": [
  {
   "attachments": {},
   "cell_type": "markdown",
   "metadata": {},
   "source": [
    "#  Unit 2.2 Data Compression, plus Images Lab\n",
    "> Learning about Lossy and Lossless compression.  Lab will perform alterations on images, manipulate RGB values, and reduce the number of pixels.\n",
    "- toc: true\n",
    "- image: /images/python.png\n",
    "- categories: []\n",
    "- type: ap\n",
    "- week: 26"
   ]
  },
  {
   "attachments": {},
   "cell_type": "markdown",
   "metadata": {},
   "source": [
    "## Enumerate Big Ideas from\n",
    "> The [Image Lab Project](https://csp.nighthawkcodingsociety.com/starter/rgb/) contains a plethora of College Board Unit 2 data concepts. Enumerate some of the big ideas and vocab ...\n",
    "- \n",
    "- \n",
    "-\n",
    "-"
   ]
  },
  {
   "attachments": {},
   "cell_type": "markdown",
   "metadata": {},
   "source": [
    "## Image Files and Size\n",
    "> Here are some [Images Files](https://github.com/nighthawkcoders/nighthawk_csp/tree/master/starter/static/img).  WGet some of these files, load them on your machine.   Describe some of the properties of the files.  Describe files that are similar, but different ...\n",
    "-\n",
    "-\n",
    "-\n",
    "-"
   ]
  },
  {
   "attachments": {},
   "cell_type": "markdown",
   "metadata": {},
   "source": [
    "## Python Libraries and Concepts used in Images Lab\n",
    "\n",
    "### IPython \n",
    "> Support visualization of data in Jupyter notebooks.\n",
    "\n",
    "### pathlib\n",
    "> File paths are different on Windows versus Mac and Linux.  This can cause problems in a project as you work and deploy on different Operating Systems (OS's), pathlib is a solution to this problem. \n",
    "- What are commands you use in terminal to access files?\n",
    "- What are the command you use in Windows terminal to access files?\n",
    "- What are some of the major differences?\n"
   ]
  },
  {
   "cell_type": "code",
   "execution_count": null,
   "metadata": {},
   "outputs": [],
   "source": [
    "\n",
    "from IPython.display import Image, HTML, display\n",
    "from pathlib import Path  # https://medium.com/@ageitgey/python-3-quick-tip-the-easy-way-to-deal-with-file-paths-on-windows-mac-and-linux-11a072b58d5f\n",
    "\n",
    "# prepares a series of images\n",
    "def image_data(path=Path(\"images/\"), images=None):  # path of static images is defaulted\n",
    "    if images is None:  # default image\n",
    "        images = [\n",
    "            {'source': \"Peter Carolin\", 'label': \"Clouds Impression\", 'file': \"clouds-impression.png\"},\n",
    "            {'source': \"Peter Carolin\", 'label': \"Lassen Volcano\", 'file': \"lassen-volcano.jpg\"}\n",
    "        ]\n",
    "    for image in images:\n",
    "        # File to open\n",
    "        image['filename'] = path / image['file']  # file with path\n",
    "    return images\n",
    "\n",
    "def image_display(images):\n",
    "    for image in images:  \n",
    "        display(Image(filename=image['filename']))\n",
    "\n",
    "\n",
    "# run this as standalone tester to see sample data printed in terminal\n",
    "if __name__ == \"__main__\":\n",
    "    images = image_data()  # path of local run\n",
    "    image_display(images)\n",
    "    print()"
   ]
  },
  {
   "attachments": {},
   "cell_type": "markdown",
   "metadata": {},
   "source": [
    "## Reading and Encoding Images\n",
    "\n",
    "### PIL (Python Image Library)\n",
    "> [Pillow or PIL](https://pillow.readthedocs.io/en/stable/) provides the ability to work with images in Python.  [Geeks for Geeks](https://www.geeksforgeeks.org/working-images-python/?ref=lbp) shows some ideas on working with images.  \n",
    "\n",
    "\n",
    "### base64\n",
    "> Image formats (JPG, PNG) are often called ***Binary File formats**, it is difficult to pass these over HTTP.   Thus, [base64](https://en.wikipedia.org/wiki/Base64) converts binary encoded data (8-bit, ASCII/Unicode) into a text encoded scheme (24 bits, 6-bit Base64 digits).  Thus base64 is used to transport and embed binary images into textual assets such as HTML and CSS.\n",
    "- How is Base64 similar or different to Binary and Hexadecimal?\n",
    "- Translate first 3 letters of your name to Base64.\n",
    "\n",
    "\n",
    "### numpy\n",
    "> [Numpy](https://numpy.org/) is described as \"The fundamental package for scientific computing with Python\".  In the Image Lab, a Numpy array is created from the image data in order to simplify access and change to the RGB values of the pixels, converting pixels to grey scale.\n",
    "\n",
    "\n",
    "### io, BytesIO\n",
    "> Input and Output (I/O) is a fundamental of all Computer Programming. Input/output (I/O) buffering is a technique used to optimize I/O operations.  In large quantities of data, how many frames of input the server currently has queued is the buffer.  In this example, there is a very large picture that lags.\n",
    "- Where have you been a consumer of buffering?  \n",
    "- From your consumer experience, what effects have you experienced from buffering?  \n",
    "- How do these effects apply to images?\n"
   ]
  },
  {
   "cell_type": "code",
   "execution_count": null,
   "metadata": {},
   "outputs": [],
   "source": [
    "from PIL import Image as pil\n",
    "from io import BytesIO\n",
    "import base64\n",
    "\n",
    "\n",
    "def image_to_html(image):  # path of static images is defaulted        \n",
    "    # Image open return PIL image object\n",
    "    img = pil.open(image['filename'])\n",
    "\n",
    "    # Python Image Library operations\n",
    "    image['format'] = img.format\n",
    "    image['mode'] = img.mode\n",
    "    image['size'] = img.size\n",
    "    \n",
    "    with open(image['filename'], \"rb\") as image_file:\n",
    "            encoded_string = base64.b64encode(image_file.read()).decode()\n",
    "    image['html'] = '<img src=\"data:image/png;base64,%s\">' % encoded_string\n",
    "    \n",
    "def numpy_to_base64(img, format):\n",
    "    with BytesIO() as buffer:\n",
    "        img.save(buffer, format)\n",
    "        return base64.b64encode(buffer.getvalue()).decode()\n",
    "\n",
    "def image_add_html_grey(image):\n",
    "    # Image open return PIL image object\n",
    "    img = pil.open(image['filename'])\n",
    "    \n",
    "    img_data = img.getdata()  # Reference https://www.geeksforgeeks.org/python-pil-image-getdata/\n",
    "    image['data'] = np.array(img_data) # PIL image to numpy array\n",
    "    image['gray_data'] = [] # key/value for data converted to gray scale\n",
    "\n",
    "    # 'data' is a list of RGB data, the list is traversed and hex and binary lists are calculated and formatted\n",
    "    for pixel in image['data']:\n",
    "        # create gray scale of image, ref: https://www.geeksforgeeks.org/convert-a-numpy-array-to-an-image/\n",
    "        average = (pixel[0] + pixel[1] + pixel[2]) // 3  # average pixel values and use // for integer division\n",
    "        if len(pixel) > 3:\n",
    "            image['gray_data'].append((average, average, average, pixel[3]))\n",
    "        else:\n",
    "            image['gray_data'].append((average, average, average))\n",
    "        # end for loop for pixels\n",
    "        \n",
    "    img.putdata(image['gray_data'])\n",
    "    image['html_grey'] = '<img src=\"data:image/png;base64,%s\">' % numpy_to_base64(img, image['format'])\n",
    "\n",
    "\n",
    "\n",
    "# Numpy limits terminal printing\n",
    "def numpyPrint(title, data):\n",
    "    data = np.array([data])\n",
    "    print(title)\n",
    "    print(data)\n",
    "    \n",
    "# run this as standalone tester to see sample data printed in terminal\n",
    "if __name__ == \"__main__\":\n",
    "    images = image_data()  # path of local run\n",
    "    for image in images:\n",
    "        image_to_html(image)\n",
    "        print(\"---- meta data -----\")\n",
    "        print(image['label'])\n",
    "        print(image['source'])\n",
    "        print(image['format'])\n",
    "        print(image['mode'])\n",
    "        print(image['size'])\n",
    "        display(HTML(image['html'])) \n",
    "        \n",
    "        image_add_html_grey(image)\n",
    "        display(HTML(image['html_grey'])) \n",
    "       \n",
    "    print()"
   ]
  }
 ],
 "metadata": {
  "kernelspec": {
   "display_name": "base",
   "language": "python",
   "name": "python3"
  },
  "language_info": {
   "codemirror_mode": {
    "name": "ipython",
    "version": 3
   },
   "file_extension": ".py",
   "mimetype": "text/x-python",
   "name": "python",
   "nbconvert_exporter": "python",
   "pygments_lexer": "ipython3",
   "version": "3.9.12"
  },
  "orig_nbformat": 4,
  "vscode": {
   "interpreter": {
    "hash": "8b82d5009c68ba5675978267e2b13a671f2a7143d61273c5a3813c97e0b2493d"
   }
  }
 },
 "nbformat": 4,
 "nbformat_minor": 2
}
