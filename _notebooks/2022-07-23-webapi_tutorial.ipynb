{
 "cells": [
  {
   "cell_type": "markdown",
   "metadata": {},
   "source": [
    "# Python Web API Tutorial\n",
    "> A discussion on Web APIs.  This will include Python at the center of using 3rd party APIs (like RapidAPI), creating APIs (like Jokes), and creating API that work with persistent databases (like SQLite).\n",
    "\n",
    "- toc: true\n",
    "- comments: true\n",
    "- categories: [pbl]\n",
    "- permalink: /tutorial/webapi"
   ]
  },
  {
   "cell_type": "markdown",
   "metadata": {},
   "source": [
    "### Model for API\n",
    "> We will begin our journey into APIs by creating and thinking about data.  We have learned about Python Lists and dictionaries.  In this data example, we are going to make \"the best computer jokes ever\" and serve them to the Internet.  The ultimate objective is to allow our viewers to give feedback on our jokes.\n",
    "\n",
    "- This begins by coming up with some jokes and defining a data \"model\" to keep and manage the jokes.\n",
    "    - jokes_data   contains a list of dictionary records containing joke and reactions: haha or boohoo\n",
    "    - joke_list   contains collection of jokes we will put into jokes_data\n",
    "- Next comes some functions to interact with our jokes\n",
    "    - def joke_random():  returns a random joke from our list\n",
    "    - def jokes(): returns the complete list of jokes"
   ]
  },
  {
   "cell_type": "code",
   "execution_count": 5,
   "metadata": {},
   "outputs": [
    {
     "name": "stdout",
     "output_type": "stream",
     "text": [
      "Return a random joke form the model\n",
      "{'id': 6, 'joke': 'Java programmers are some of the most materialistic people I know, very object-oriented', 'haha': 0, 'boohoo': 0}\n"
     ]
    }
   ],
   "source": [
    "import random\n",
    "\n",
    "jokes_data = []\n",
    "joke_list = [\n",
    "    \"If you give someone a program... you will frustrate them for a day; if you teach them how to program... you will \"\n",
    "    \"frustrate them for a lifetime.\",\n",
    "    \"Q: Why did I divide sin by tan? A: Just cos.\",\n",
    "    \"UNIX is basically a simple operating system... but you have to be a genius to understand the simplicity.\",\n",
    "    \"Enter any 11-digit prime number to continue.\",\n",
    "    \"If at first you don't succeed; call it version 1.0.\",\n",
    "    \"Java programmers are some of the most materialistic people I know, very object-oriented\",\n",
    "    \"The oldest computer can be traced back to Adam and Eve. It was an apple but with extremely limited memory. Just \"\n",
    "    \"1 byte. And then everything crashed.\",\n",
    "    \"Q: Why did Wi-Fi and the computer get married? A: Because they had a connection\",\n",
    "    \"Bill Gates teaches a kindergarten class to count to ten. 1, 2, 3, 3.1, 95, 98, ME, 2000, XP, Vista, 7, 8, 10.\",\n",
    "    \"Q: What’s a aliens favorite computer key? A: the space bar!\",\n",
    "    \"There are 10 types of people in the world: those who understand binary, and those who don’t.\",\n",
    "    \"If it wasn't for C, we’d all be programming in BASI and OBOL.\",\n",
    "    \"Computers make very fast, very accurate mistakes.\",\n",
    "    \"Q: Why is it that programmers always confuse Halloween with Christmas? A: Because 31 OCT = 25 DEC.\",\n",
    "    \"Q: How many programmers does it take to change a light bulb? A: None. It’s a hardware problem.\",\n",
    "    \"The programmer got stuck in the shower because the instructions on the shampoo bottle said: Lather, Rinse, Repeat.\",\n",
    "    \"Q: What is the biggest lie in the entire universe? A: I have read and agree to the Terms and Conditions.\",\n",
    "    'An SQL statement walks into a bar and sees two tables. It approaches, and asks may I join you?'\n",
    "]\n",
    "\n",
    "# Note: this resets every time application restarts\n",
    "def jokes_init():\n",
    "    item_id = 1\n",
    "    for item in joke_list:\n",
    "        jokes_data.append({\"id\": item_id, \"joke\": item, \"haha\": 0, \"boohoo\": 0})\n",
    "        item_id += 1\n",
    "        \n",
    "\n",
    "def joke_random():\n",
    "    if len(jokes_data) == 0:\n",
    "        jokes_init()\n",
    "    return(random.choice(jokes_data))\n",
    "\n",
    "def jokes():\n",
    "    if len(jokes_data) == 0:\n",
    "        jokes_init()\n",
    "    return(jokes_data)\n",
    "\n",
    "\n",
    "# Test Joke Model\n",
    "print(\"Return a random joke form the model\")\n",
    "print(joke_random())"
   ]
  },
  {
   "cell_type": "markdown",
   "metadata": {},
   "source": [
    "### Backend Interface for API (Control)\n"
   ]
  },
  {
   "cell_type": "code",
   "execution_count": 6,
   "metadata": {},
   "outputs": [
    {
     "data": {
      "application/json": {
       "boohoo": 0,
       "haha": 0,
       "id": 13,
       "joke": "Computers make very fast, very accurate mistakes."
      },
      "text/plain": [
       "<IPython.core.display.JSON object>"
      ]
     },
     "metadata": {
      "application/json": {
       "expanded": false,
       "root": "root"
      }
     },
     "output_type": "display_data"
    }
   ],
   "source": [
    "from IPython.display import JSON, display  # IPython way of producing JSON\n",
    "\n",
    "# concept of API without app route\n",
    "def api_joke():\n",
    "    return JSON(joke_random())\n",
    "\n",
    "# IPython display of JSON\n",
    "display(api_joke())"
   ]
  }
 ],
 "metadata": {
  "interpreter": {
   "hash": "aee8b7b246df8f9039afb4144a1f6fd8d2ca17a180786b69acc140d282b71a49"
  },
  "kernelspec": {
   "display_name": "Python 3.9.0 64-bit",
   "language": "python",
   "name": "python3"
  },
  "language_info": {
   "codemirror_mode": {
    "name": "ipython",
    "version": 3
   },
   "file_extension": ".py",
   "mimetype": "text/x-python",
   "name": "python",
   "nbconvert_exporter": "python",
   "pygments_lexer": "ipython3",
   "version": "3.9.0"
  },
  "orig_nbformat": 4
 },
 "nbformat": 4,
 "nbformat_minor": 2
}
